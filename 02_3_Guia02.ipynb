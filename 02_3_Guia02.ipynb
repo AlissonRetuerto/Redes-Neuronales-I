{
  "nbformat": 4,
  "nbformat_minor": 0,
  "metadata": {
    "colab": {
      "provenance": [],
      "include_colab_link": true
    },
    "kernelspec": {
      "name": "python3",
      "display_name": "Python 3"
    },
    "language_info": {
      "name": "python"
    }
  },
  "cells": [
    {
      "cell_type": "markdown",
      "metadata": {
        "id": "view-in-github",
        "colab_type": "text"
      },
      "source": [
        "<a href=\"https://colab.research.google.com/github/AlissonRetuerto/Redes-Neuronales-I/blob/main/02_3_Guia02.ipynb\" target=\"_parent\"><img src=\"https://colab.research.google.com/assets/colab-badge.svg\" alt=\"Open In Colab\"/></a>"
      ]
    },
    {
      "cell_type": "markdown",
      "source": [
        "**Librería Numpy**\n",
        "\n",
        "NumPy, abreviatura de Numerical Python, es el paquete fundamental necesario para la computación científica y el análisis de datos de alto rendimiento. Es la base sobre la que se construyen casi todas las herramientas de alto nivel de este libro. Estas son algunas de las cosas que proporciona:\n",
        "\n",
        "\n",
        "\n",
        "*   **ndarray**, una matriz multidimensional rápida y eficiente en el espacio que proporciona operaciones aritméticas vectorizadas y capacidades de transmisión sofisticadas\n",
        "*   Funciones matemáticas estándar para operaciones rápidas en matrices completas de datos sin tener que escribir bucles\n",
        "*   Herramientas para leer / escribir datos de la matriz en el disco y trabajar con archivos asignados en memoria.\n",
        "*   Capacidades de álgebra lineal, generación de números aleatorios y transformada de Fourier.\n",
        " *   Herramientas para integrar código escrito en C, C ++ y Fortran.\n",
        "\n",
        "\n",
        "\n",
        "\n"
      ],
      "metadata": {
        "id": "FPHHmAu0811X"
      }
    },
    {
      "cell_type": "markdown",
      "source": [
        "**NDARRAY**\n",
        "\n",
        "Es un objeto de martriz n-dimensional (ndarray), es un contenedor rápido y flexible para un gran conjunto de datos. Las matrices pueden ser operadas en bloques completos de datos utilizando una sintaxis similar a las operaciones equivalentes entre elementos escalares\n",
        "\n",
        "es la identificación del grupo de protocolos de red que hacen posible la transferencia de datos en redes, entre equipos informáticos e internet."
      ],
      "metadata": {
        "id": "ToB1u3kT9meu"
      }
    },
    {
      "cell_type": "markdown",
      "source": [
        "**CREANDO MATRICES CON NDARRAY**\n",
        "\n",
        "La forma más sencilla de crear una matriz es utilizar la función de matriz. Esto acepta cualquier objeto similar a una secuencia (incluidas otras matrices) y produce una nueva matriz NumPy que contiene los datos pasados. Por ejemplo, una lista es un buen candidato para la conversión:"
      ],
      "metadata": {
        "id": "7m-FOVjx9pRf"
      }
    },
    {
      "cell_type": "markdown",
      "source": [
        "![image.png](data:image/png;base64,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)"
      ],
      "metadata": {
        "id": "PGySzasg9zaA"
      }
    },
    {
      "cell_type": "code",
      "source": [
        "import numpy as np\n",
        "data1=[6,7.5,8,0,1]\n",
        "arr1=np.array(data1)\n",
        "arr1"
      ],
      "metadata": {
        "colab": {
          "base_uri": "https://localhost:8080/"
        },
        "id": "9PPLLQvT7shg",
        "outputId": "2a86a570-8b00-426e-d16e-a3acc41301e6"
      },
      "execution_count": null,
      "outputs": [
        {
          "output_type": "execute_result",
          "data": {
            "text/plain": [
              "array([6. , 7.5, 8. , 0. , 1. ])"
            ]
          },
          "metadata": {},
          "execution_count": 2
        }
      ]
    },
    {
      "cell_type": "markdown",
      "source": [
        "También podemos crear un array desde un conjunto de elementos"
      ],
      "metadata": {
        "id": "BDp0c68Y93z3"
      }
    },
    {
      "cell_type": "markdown",
      "source": [
        "![image.png](data:image/png;base64,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)"
      ],
      "metadata": {
        "id": "5vMVHgxq-Iyf"
      }
    },
    {
      "cell_type": "code",
      "source": [
        "import numpy as np\n",
        "a=np.array([1,2,3])\n",
        "print(a)\n",
        "b=np.array([(1,2,3),(4,5,6)])\n",
        "b"
      ],
      "metadata": {
        "colab": {
          "base_uri": "https://localhost:8080/"
        },
        "id": "EBZ98wIrDsxs",
        "outputId": "d4b5ff88-743c-4326-e4b1-b27347e0413f"
      },
      "execution_count": null,
      "outputs": [
        {
          "output_type": "stream",
          "name": "stdout",
          "text": [
            "[1 2 3]\n"
          ]
        },
        {
          "output_type": "execute_result",
          "data": {
            "text/plain": [
              "array([[1, 2, 3],\n",
              "       [4, 5, 6]])"
            ]
          },
          "metadata": {},
          "execution_count": 4
        }
      ]
    },
    {
      "cell_type": "markdown",
      "source": [
        "A menos que se especifique explícitamente (más sobre esto más adelante), np.array intenta inferir un buen tipo de datos para la matriz que crea. El tipo de datos se almacena en un objeto dtype especial; por ejemplo, en los dos ejemplos anteriores tenemos:"
      ],
      "metadata": {
        "id": "sBMBN27-9_et"
      }
    },
    {
      "cell_type": "markdown",
      "source": [
        "![image.png](data:image/png;base64,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)"
      ],
      "metadata": {
        "id": "4tu2EZ_b-Ctq"
      }
    },
    {
      "cell_type": "code",
      "source": [
        "a.dtype\n",
        "b.dtype"
      ],
      "metadata": {
        "colab": {
          "base_uri": "https://localhost:8080/"
        },
        "id": "jHIzOPNuERaE",
        "outputId": "665be0f8-621b-46b5-9bfe-dcb34e068034"
      },
      "execution_count": null,
      "outputs": [
        {
          "output_type": "execute_result",
          "data": {
            "text/plain": [
              "dtype('int64')"
            ]
          },
          "metadata": {},
          "execution_count": 5
        }
      ]
    },
    {
      "cell_type": "markdown",
      "source": [
        "Para cambiar un tipo de dato se puede usar la función astype, cambiemos el tipo de datos de la matriz “a” a float:"
      ],
      "metadata": {
        "id": "w7N6_cyq-OHn"
      }
    },
    {
      "cell_type": "markdown",
      "source": [
        "![image.png](data:image/png;base64,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)"
      ],
      "metadata": {
        "id": "_xnncJZb-mhG"
      }
    },
    {
      "cell_type": "markdown",
      "source": [
        "Se puede crear matrices con valores establecidos:"
      ],
      "metadata": {
        "id": "6fBDKkVj-q8w"
      }
    },
    {
      "cell_type": "markdown",
      "source": [
        "![image.png](data:image/png;base64,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)"
      ],
      "metadata": {
        "id": "0wMq4t35-sg9"
      }
    },
    {
      "cell_type": "markdown",
      "source": [
        "También podemos utilizar estas herramientas:"
      ],
      "metadata": {
        "id": "wlShHFxT-vC1"
      }
    },
    {
      "cell_type": "markdown",
      "source": [
        "![image.png](data:image/png;base64,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)"
      ],
      "metadata": {
        "id": "ivnFVXqy-6je"
      }
    },
    {
      "cell_type": "markdown",
      "source": [
        "![image.png](data:image/png;base64,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)"
      ],
      "metadata": {
        "id": "U7FXT065-80_"
      }
    },
    {
      "cell_type": "markdown",
      "source": [
        "Podemos utilizar np.arange() y np.linspace(). La diferencia entre estas dos funciones es que para la primera se especifica que se desea crear una matriz que comience en 0 y por pasos de 5 genere los valores para la matriz que está creando. Por su parte para el segundo caso, se requiere una matriz con 5 valores que se encuentren entre 0 y 2."
      ],
      "metadata": {
        "id": "VGjxueQj_CQ3"
      }
    },
    {
      "cell_type": "markdown",
      "source": [
        "![image.png](data:image/png;base64,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)"
      ],
      "metadata": {
        "id": "cGTCGWt3_HR2"
      }
    },
    {
      "cell_type": "markdown",
      "source": [
        "**INSPECCIONANDO MATRICES**\n",
        "\n",
        "NumPy contiene varias instrucciones para obtener más información sobre las matrices que se han creado utilizando esta librería algunas de ellas son las siguientes:"
      ],
      "metadata": {
        "id": "JK3avweW_Yyh"
      }
    },
    {
      "cell_type": "markdown",
      "source": [
        "![image.png](data:image/png;base64,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)"
      ],
      "metadata": {
        "id": "nmMMJMbH_cVo"
      }
    },
    {
      "cell_type": "markdown",
      "source": [
        "![image.png](data:image/png;base64,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)"
      ],
      "metadata": {
        "id": "qysnBrbk_dMe"
      }
    },
    {
      "cell_type": "markdown",
      "source": [
        "Podemos obtener todos los valores ubicados en la columna 3 de todas las filas. Para ello le decimos que desde la fila 0 en adelante, los dos puntos representan todas las filas, va a tomar el valor de la columna 2. Recuerda que la numeración de filas y columnas siempre comienza en 0"
      ],
      "metadata": {
        "id": "WMocR8G__flO"
      }
    },
    {
      "cell_type": "markdown",
      "source": [
        "![image.png](data:image/png;base64,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)"
      ],
      "metadata": {
        "id": "WadUW0gi_iHO"
      }
    },
    {
      "cell_type": "markdown",
      "source": [
        "**OPERACIONES MATEMATICAS ENTRE MATRICES**"
      ],
      "metadata": {
        "id": "psYLPJSo_j8m"
      }
    },
    {
      "cell_type": "markdown",
      "source": [
        "![image.png](data:image/png;base64,iVBORw0KGgoAAAANSUhEUgAAAcoAAAH6CAIAAAAIhJsmAAAACXBIWXMAAA7EAAAOxAGVKw4bAAAgAElEQVR4nO3df1ST990//lfb3TBc5ZwpOeUckX6TtEfgc+4JnpWwKcHWYrsa1nsE3IitBdtO7A/pD4ndkbgdQs9q0La4dsK9arxpCfcE/KwFt7tSrUTtCG4Gus8NuDbxFnCHNqk9Q28p1Mr3jys/riTXlVyBXJDA8/FHK1feeV/v67rCk3feufJ+3zI1NUUAABBpt851AwAA5ifEKwCAKL71ie3SXLcBAGAeumWWx14/+eSTu+++ezb3CAAwJzA4AAAgCsQrAIAoEK8AAKJAvAIAiALxCgAgCsQrAIAoEK8AAKJAvAIAiALxCgAgCsQrAIAoEK9Dbc88qHmt9xrng72vrXumfZSI6NpQb+8QdyEAAA7fmusGiO7ap+2v1fzu7PD/fv0v31m++smq5wvuut3z4OSnbYZ2+Sv//nzm7UGqICIaan/ppc92tlbfG6rgXOl9bd2LHYGbVftOPJ8ZViUU1jMAgE+sxuuePXtKSkpSU1ODF5vsfa30xbMrq95oXZ0aNzl09rUXnnmJDr9RkOx6PO4u9RuHBe0w4+n/+q8ZtXgGBB1s5vMnTjxPRDTa/sym9x9o8h4kAMyJWB0cuHDhwvXr10OVGmp/veP2J17V3Zt6exzF3Z56787nVg+82dzrevTDPc/8+MF16x788TN7zox6nnSt/3fM5lJ9+7kv3Vt7X1u37rXewBLN+gc92/lqnJ2D5Xetv/ml0gfXrVv3YKn+/SEioms9e3784EsfXiEioqHm0nVFb/b3vrZu3YsdRB0vuo/0Wq/neS8192NkBCA8sRqvglyznRu+44HVrE5fXPaT+6rvTZ4kunZG//M3/7fgjfdOnHjvjXuHa0r1Z64REV35sOaF9+94/vCfTrz3qvpaX09grVc+rHmh/fYn3/jTn957VX3t7Nmv3XvjqXGujba99MLZe6rfO3HiT4cfozefea13km7Pflq7uve1/+idpCsf/vY/rqmqnszIfP7EiX0qItW+EyeezyQaan7mpQ+XP2c6ceKE6ak72p59pnlorg8FIKbM73i9do2W3B7H3hSXnJmdmRxHox/+56mMJ597IDWOKC5VXf18xqn//HCUaPRs27mMJ5++NzmO4pZklGy+N6DS0bNt5+568rmCu+Li4pZklDzxgHs7T41zrbf5d1ce06pT44jiku99rOT29z/sJ6Lb1zy9M+P913/X/LvX+u/VPpkZF/C8tv+4UvDc05lLiGhJ9vPVhVf+o603sHoA4BNLY6979uy5cOGC50eDweD596FDh8Kra/TTgTvu0S5x/7hkufw7A5+OEtGnA9+RP+XZHheQOjT66QDJnwgc1+SrcZojoJE62NFh29efdZSte8u7SeVq4b3PPd226fUP76kyZQd+Xjc6bPv6np/d5fk5NSPj67bhUcrEiC6AQLEUryUlJZ4hSIPB8LOf/SzEpz233347Xbk26bNt8tq1ybjbA+JkcnLSf9MMzbDGsA82iHuq3n2F646HyWvXiOjaNSENZcoCgHCxNDiQmpqa5hb4I4fb5fcs/+z9c6whw8kzex4u+l0/UfJd6Z+dG7ji3n7ls+Gv0+9KJkq+K/1/bcOe7RwRmXpXOg1/diVgO1+N0xT2wfJY8t07/qX3TC9Hgo62Gd66/amqgtE3X/+Q43CWy//lXN+n3tJDQ/8iX46uK4BwsRSv4Ut94DnVtd/VvNYzNEk0eW3owz2vn01/uiSTKPnen63t/92bH45OEk0OtRve7F/7s3uTiZJXq+9xbZ+80vvmWx8G1LnEVWJocnLySn/zW++7tvPVOMfi1qgLbj/1+p4PR4locvRDveal968Q0ZUPX//daOFT6nsf097b/9rvepi+aXKqnIaHr0xOTlKm+rEl7b9t7r9CRFd63zQcXfKYGrfDAoRhfscr3Z75/OFX7v3st8/8eN26HxW90B735BuvMPeD3r5G9+9P0n/8/Mfr1v34mfe/+/y/69bcTkS05N6qVx/47LXSH6378QvtqfdkB9bpKvHzH/3oxy+03b7SU4KvxrmW8fThfQ98+WbpunXrfvzztiXPaR9YQtfOvLmnd/Vzj2UQ3Z795PMZHxp+13uNiJJXl6wefbP4Ry+8f4VSS954ZeW53Zp169ZpXh9+YN8bJdMdnABYmLBS7MxMntH/6D8zcQ8/AAQQ9NHWb37zm6GhoZ07dzqdTvbH2YGWLl26Zs2aCLUtSl15/4Vnegpe3XlvctyVnjdfP5X+2JPIVgAIICheBwcHx8fHnU7n4ODge++9F6TkihUr5n28Lnmg6rlPa575cc2XX//Ld1eq972CnisAcBA0ODA0NDQ0NBSR3JxvgwMAADwE9V5TU1Onf9MlAMCCJOjOgevXrzudTrGbAgAwnwjqvf7yl7/84osvfvWrXw0NDZ09ezZIyeXLl2s0mgi1DQAghgnqvS5atEjsdgAAzDOCPtq6fv369evXk5KSZr4/fLQFAAuEoMGBRYsWoQMLABAWQYMDIYdcAQDAj6De6549e8bHx5cuXSrkawU7d+6MUNsAAGKYoHhdtWrV4OBgUlJSyNnwIjI+CwAwD8zBlC6zuTsAgLkyB6sV4M4BAFgI5vl8rwAAcwXxCgAgCsQrAIAoEK8AAKJAvAIAiALxCgAgCsQrAIAoEK8AAKJAvAIAiALxCgAgCsQrAIAoEK8AAKJAvAIAiALxCgAgCsQrAIAoEK8AAKJAvAIAiALxCgAgCsQrAIAoEK8AAKJAvAIAiALxCgAgCsQrAIAoEK8AAKJAvAIAiALxCgAgCsQrAIAoEK8AAKJAvAIAiALxCgAgCsQrAIAoviW86NDQ0Lvvvmu1Wpkfs7KyHn744dTUVHEaBgAQ24TG69DQ0J49e8bHx7OyspYvXz48PGy1WgcHB5999tm0tDRRmwgAEItumZqaClno+vXrlZWVRLRz505Pd3VoaOg3v/nN9evXa2trFy1aJHB/n3zyyd133z3t5gIAxApBY6/nz58fHx8vKSlhDwWkpqaWlJSMj4+fP39etOYBAMQqQfHqdDqJaNWqVX7bmS1DQ0MRbxYAQKyLwJ0D4+PjM68ExOXot9rGIlgumo3ZrP0jE3PdCgBh8ZqUlEREgYMAzJbly5dHvFnTN2Fr12+9f6VMJpOlZW/Yqm+3hf5Fs+plMplMprdOc5+O1lKZTCYrbXVMs4LgZto8GjtematS52cbQtQgtFxUsx0qzFerlFvbxbkYsWjGLyAWkV/r84ygeF21alVCQkJzczMzSsBwOp3Nzc0JCQlr1qwRrXlhmrDqN+RXGDvtV4mIJp0DncaK/A166wLvyiSmpMvjaHFeekpkykU1SUrWYopLV6QkznVLQDyR/IshIkE3Zi1atOjZZ5/9zW9+88tf/nLVqlVJSUlOp5P5vGvFihVOpzM67n6dsBq2G+0Up9Qf3b8pI5FozHqgVF3ba6w8pP5gW8ZcN28OZWw5NrglguWiWeL62j577Vy3AoCEj72mpaXt3LkzLS3t7Nmz77777tmzZ1NTU3/1q18x98NGxadbE91txstEcZsqNmUwPZfErE3lKiKyd1htREQ01t9aVZidJpPJ0rILq1r5xg3GrE3bmWIr7996oNv1Noj5g+l5VxTk7yfPbtwVdLdvz07jenvlHdgI2jwX19s0fVd/0/bClTKZbGVh1fGRiZF2Zt9p2aWH+n32zLTV/bT27gOlzDEWVh0fCSznaW2XvtRT39iY9RDTQtaziGjC5nPE/SGGb8NoOpGj+4BrtId1NfoP3C+TyWRb28eIiGxNhUxjR3zfvYa1H+4d+VzX9q0ymUyWe6Cf+dnWtEEmk8kKm0b8Cjq6DzH78zkd7tZYfU5Caasj0u10FSrNTpPJVhZWtVrH/B87xPH69ifs1chTKqxXD3d7eF+ojtZSmdpIRERGtft88r8CuS/G7Ajjo63U1NRnn3320KFDv/rVrw4dOsTcA7tz504iioqEtfV3ERHlZLLe2iau32+32+3HNsmJJqyGQpXW1DuRpdEoE8d6TdoNXAN0E1ZDoVrX0TuWmJ6eNGHvrNXkbj8exiUJtZvuqtKKDudk4BNHWrduqDB22kmWLot38jUvQNPWQkP/hGQx0dVeU3nJ/SUV7WOSlMU06TTXFOq7+SLaWKGpH5HIk+Loaq+pfHtAQnhbu7XdIUmMo0mnuWbrhg1qgzU+xfdZE1bDhnytqdcZ7265qlDQgIyApjvaS3M1tZ0jKSqNKpPsnbWaEoN1gihji04TR9RpaOqnseN1+l4iWaW2iHtUQ8gpcu3IPpHkueylrX4nJTFPrSKiy66/1g5r5wARKTXrfXY7YTWUaGo6+lNUZeWarIlek1ZV6A7kGZ8P3hPiq/9AiabW7JxcLEuZOF5V0+bTPH2Jpob9+uaqQOCrMUQpYa+e4O0JfKHGy/PLVZlERJSpKi9XSIK8Aqd/MSJiOncO+N39Gi0JO+G8TEQkT5FwP9zdVm8nStcfba6pOXxUl0k0aW7r8n/JONrr6u1ESsMHPceO9fQYNXE02WEKKMbfilC7maScyjZzb+/+Aonv8+qrzJO0rMzU88GxD/raypfRpNnQGvqVINce7fvg2Ad9bWVxRHRZUt7Z98GxD3qMaiKa7HJ12wOlV3X0fXDsWM+xqnQi6rXw/FGfLNjf03PsWM9pg5KILjvyjH09fs9ynbHMqs6+D4590Gc2KInsRr1/Nk2r6bbj9eZJIk3D0f01+5sbNHFE9vqOfiKKzyvXZRJdrjVsr9J3TFKcRreFb/xHwCmy1leaJylOY+zpOXasp89UtowmzVX1fn+dEnNUKiIaMHXbiMasZjMRKVV5vi+4/s5DdqJMXcN+nbam+XBlenp6vIX3OoTZTv4TwjLRZaq1E8VpjD0fHDvWc7ou3/vYSKve6H19n67LJ7LXG7v8rr6wV2PIUgJePSHbE/hCTczapC3LIiKirDKtdn1KkFfg9C9GRETgxix2wl6/fn3mFYojPq/G05ElSsnI4iw10d9rJiKFKieFiCgxp7zZZDKVZ8RHbjebKrZlpSQmJvpW2d9pmiSKK1DlxBMRZeWvJ6LLlv6QuS5JZH67U9JziIiyMuRERPGJiUREl518nUj30xKZ/4+N8RRMlCQSEUnkciKinEzmTLCe5UoZhWa9nGlHnkpJRL2d1gg0Xb7pmN1ut9fkxRNRvDwzh/XslCJd2TIic0fHZSJlTUUe7zUKvZ/+7uOTRLRJlZdIRBSfo1pPRJOtZr9AScxTa4hooNPqGOvu6CCOdCV5eh4R9Roq9a1d/SMZ244dO3bsMPNymPH5CHpCPFzv4zapmFMiSfH2rh3dnb1EpFTnpRARSXLylUTUYfELHGGvxtClQr56Qrcn9As12Ctw+hcjIsKY0iUIJmGHhoaEfzs28uKTlhFdJodjjIj7U2NH9yF9nanLwtxYwGnMMUJEFE+u39X4lKyccD9HF7CbwOeM2IiIJuvVsnr25omovwl1YmyMiHXGmN8lM1FkbtcY62+vq6tv7xoIHE+Jz1KXyYw1diJSadZzv2cRyPXOx3MMlJKuJDJPBhxDfE6+hkwmc2fXcUkHEeWrA3acWFBjGhnbWmsxai1GIlqsqGzYvy1nRu1jCXJC3AKOxmvE3k1EZK5QyCrYzxibYBcX9mqMxGs2WHuECvYKFPlihBKZeCWi1NTUOb5/QJ6RR2Qiq22EyP020dFeqqgwU7q+81iRoypXY5qMyyyvMykl1G/U1HQGVpIoSSEimvCEw8TY2ARRvH9nk9dEt5DdBJCkyInMlKTQFGWx/zZIBHeb54qrc+U9Yw4b0/WIRMtHmkpVul6SqfVGtTze0amvMA54Hhw7Xm+wM//sMDSVr5/BzSGuP83ePwkjA2Yiigs8Ble+dlZVxRFRvqu760uSs625b4vD1t/dZaw3dFhqNVUpvQ0F024dS9ATwns0XimyHCIzpavK89i9hmWJPvEq7NUYiddssPYIFfwVyHMxZue2vYjF69yLz1Fp4kymy3WG1vUNRfJ4orHu+jozES1TZcmp32SaJKJNWm1BDtHERBt3JRmZSjKZLR3dI0VFKTTRbdigMV5WGMzNRUyB7t7+iaK8eBqxcQ/gMG+YQu0mkFyhImOH0xGvLNfmJBIRjXR3U05OClF038CdmKVUUofZYjpuK9oiJxrp6jATUWZ+1sy7CK63joryik15KUQ2n7fq/U2GjkmKU5VvGqk39tYaWosOF013lxk56+PIONnU0VWRk5dIE90dx4korkgZmNiul9nk5CR3ujpaSxVac1xZ26Auq0CelRU/otT1dvbaqMCVH9Z+G2XJacI2EP4QYNAT4iHPyosj0+Txzm5tTo7vS1WSoVhG5su2MVmD64PAMWv3SEaO3+gX/6vRIaiU4NdskPYIqmKCgr4C+S8G99hgpM2jeKX4HF1zWbfaaNbmp2u9m2Vl+7dkEI0pVHHGjknj1vu7U+InRgbsRK43Mj6/k5KCirJ6s9GsvT/bKE8cGbBfpThV2foUIkm+Js5omjSVZXenSxwDPG/95cJ2EyBxvdagPK41GzWZrbL0FBoZsF+l9KrOY1tmbaBomiQFFeX15vremvyVJveJkZXpilLInTVlbXbdtF7OkgyFjMx2S1XhBqOEHLYBJ5HrneNYq6HWTpSpq9AWOcaaNCZzVV1XQQ3/AGxwWeW1yqYKs6ks+3i6nGwDzkmKU9aU53BUF5+lKoozmSaJVGqOvqtkvUZVZe4wlmxwbMqTOLqaeolk5aoMovic/Ewy9/bqNmSbXPsIV5ATwmppfI6mQmaqtRs1K9uZo/E+lrFlf1mb2mjWKtMM6XKJwzbgnIxTG3tqfQ6F/9UorJTw1yx/e4I+jRm8IePW+7vzKg7X8r0C43kvxuyYX6sVxGfpjnbUleXLFhMRxSWl55fVdR7TZcUTUeL62mMGTebiq/aBkfgcXV15OhENDAR8OT0+S3e0Ta/KTBwbGLCTLL/SdHr/+kQiis/RHa1SJsXRVftIYkGdSa/kaoLQ3QRKKTp82lSZn540YR8YGInPVFWZDkd9thIRxWdpj3UaNJlJE/YB+0RSpsbQcZQ55zOWsa3ZVKlMIueAzSEpa9CriYisIyMTXXVVZqI4jbZITvE5FTVKokmT/tD0b7mRFBw+barMl8U7Bwac8bL8StPpwzz3ecVn5RcQEalUOVxvMRPX7z9tqsxPGekw1huPOzJUVaZmbVY8EaVs2l+vyVxMk06bI0PbVl8WfjP5Tgh3sThmT3VVCnbrdUc7DBqFLN45MDAwkZJfVnesJvDPhLBXYwReswLb40dSoNOrmN9Fig/yCuS/GLNC0HyvEYT5XhcUqyFNXS/Xdx6bvQ9rxTfRVbWyzDSpqu9l/u4C8JhPgwMQbfq72ycpU5M3f7LVemjDVsOAc5KWlZWF7GLBQje/BgcgqjjGrsozK3U877Fjk9PmnFycqTEcnsW3mBCrMDgAACAK9F4BAESBeAUAEAXiFQBAFIhXAABRIF4BAESBeAUAEAXiFQBAFIhXAABRIF4BAESBeAUAEAXiFQBAFIhXAABRIF4BAESBeAUAEAXiFQBAFIhXAABRIF4BAESBeAUAEAXiFQBAFIhXAABRIF4BAESBeAUAEAXiFQBAFIhXAABRIF4BAETxrbluQNi++uqruW4CAEBo4fVer1+//u677/pt/MMf/nD9+vXINQkAYD4II16vX7++Z8+ed999d3Bw0LNxcHDwvffe27NnDxIWAIBNaLwy2To8PLxly5a0tDTP9rS0tC1btgwPDyNhAQDYBMUrO1vXrFnj9+iaNWuQsAAAfkLHa/BsZSBhAQD84MYsAABRhI7XRYsW7dy5c/ny5YcOHTpz5gxnmTNnzhw6dGj58uU7d+5ctGhRpBsJABB7BPVegycsshUAIJDQwQF2wvrdmIVsBQAIdMvU1JTw0tevXz9+/Pi//du/sTf+4Q9/WL9+vcBs/eSTT+6+++7w2ugL39oCgJgQXrzOHOIVABYI3DkAACAKxCsAgCjmQ7zabLb7778/IyMjIyPj3LlzM6zk/vvvt9lskW3hvDfasjFhr8X7s2VvgsvGltG5axbTMK6GWPb6tBdADPMhXonorrvuOnv2bH9//z333MNsGR8fr6ysZDJ33759npJtbW0ZLJ44lsvlH3zwwdmzZ++66645OICYZtkr3Zx9aofCZ2NB48Xx8fHxI8XJ7i2OU4/UPb6k7vEldY+/3i+07nOtAssPvu6ufEldo+dvbHLxkfHx8fFTer/Sikcae9bOcfTDvDdP4jXQH//4x5ycnP7+/rNnz/b09LS1tXke0uv1/W6eOIbpsuxdq9P7h2sg59H2s4Wag1cqDl7Jz6vufPmoQ0Dd/Y0PjOXtXhyynPPooVrKP3il4uCVioPvL+t6oHUwxDOSi4+cyt68HQELIpq38apWq9VqNRF997vfzc7O/p//+R9x9uN99znd98GjLRs3tox63k573rNa9ibstXiqF1A5Z1MsexM2tox6HnLV7noz794pq3KOSix7E9jvpH1/HG3ZJyRciZIKt+wqlBARUUb2brIPhY7Xwdc7u3bnPJQasiA5h67KUiWuH1KXyEI/g4gUjzTS5ncwRACimbfxOjtGW96h/ePj4+Pj4xcbadqdofbN0n13XhwfH7/YWKDb561Et1Z66UWBlfM3pX2zlKnGt3bd2gRmp6f07e6U4axEkasn3WlP6p/WkT7XHaejp1vavT9F1LnW2upllc9lCCmbtnqZ/QlT4zkicpx68W/23RlpIZ9DlJxbXOA9MIBIm//xeu7cuT/96U/sr0LodLrAMdnpSS7e4R5bTM4tLmi/dInIpwfo3yXloT/FjFGyKiEiKmi8yPQL/bYLb4pPNX7b3TtV5OqpZ2iUvxLFI42eGLKc1hU0PuLJ00uX2gvuvDP4wfk711pbvfjRkuC56ThVdznv/SIhKUlEdE/RwSv59EDd40tMZws1B4WFMiWnZruPHCDy5nm82my2X/ziF7/+9a/lcjmzRa1WM6Ouf/3rX0dHR2easKwklW5ud210fZ7CIuDNc2ghgoCzKUREBcW57sgsPuJtirfTqdjh+QSKuxJvN89yWqd/0ftp1ehQT5gH8dnJlx+4nPf+lrV3BCvlPNr+9vfzNwsfFz/X+viS7tSBioNX8pc/YXr8kZNOQU+7885Qf7UApm8+x6vNZtu6deu2bds4P79KSEjIycmZ2R4se6WbifmEfHz8YmOBa3P4vVdBslOT+R/kaUp4eCtx56vltM5nKCA5NTuc+j87+XL63+gtTajcdPy/o1epupO5DWDnE8y/D536jLf8qbrLsrcK1t5BRBmbr+Tn/fFvfxR0g950Ot8AQs3bePVkK/MBF2eBAwcOKJXKGe7IFXqjLdvF672Otmzf7DPEyXwm5R/aHE0JH3clycUv6nX7Nu7rYQ0MEIXV/XNnq/sDLja/45GsfafCdRvAlYo9by2m3fkHr3g7vMyfL78P+7yflZ3r76LFqQI+EKPRoZ7gf7QAZmLexusf/vCHf/zjH55hVubLAuybYbdu3drQ0DCzG7MUjzQW6NYyb6UvFU+zyxhE+2ap63169qkQER2RpgSrRJGrb28nzziDS3Jusc+HcfwGm/9mJ7I/YXLfncrujSpy9RRy9MNnp0SsWJesfSc/z93bffyBsUcHQgw+MET8XA6A5seULjabrba29te//vV3v/vdmdRMRF9++eUvfvGLyspKz1jt3LHsTdh350XWbflzjK89lr0Ja8kv/cNu+2jLRgF/Q3z22dMofAec7Ym2EwzzzrztvUJkWfau9flQy0ux45Ret3b6o8ujLRsF9c89DUlICC9b+fa6tqdxP7IVRDRP4vXTTz9dvXr1zOccWL169aeffhrZtsU6Zlx0bY/7JrFAih0XG3v8A9Y1sBH66xCukWqhw9OKHX7ftQ3K9SnjWp3fdss7m7NPoeMK4poPgwMAAFFonvReAQCiDeIVAEAUiFcAAFEgXgEARIF4BQAQBeJ1tjm7tlVvXfn7CzOvyX8FlkgZbFpZvXXbGWGTonA2hZnCNqAUVmCBhQXxGs2cZ17hDWLOFVjmRkBTkotfzN4sDYhSrMACCwvue41mzjOvrLv8k76frgh4hOubqHOEpymjLRull14M2IxvosLCgXidCeeZV3T0xLbLux69QES0aWODNs21fd3ln/St/MvKI2Yi+uF9Lx9Yk0REH/9+K1PSs4W3ksEm5rleSzUnns5jnsMdXaMtG91ztBYE/c6o88wrOvqB9KSpiZRvb6RHj5hpxQt9P11B5Hz3zV27v/A5liCHyd8UIuJL0iBPAJhfMDgwQx+d3HVg2ct9uxv6NiqbjjR97HngwqsrT6Sc2N3Qt1H50cn3me3f+2lD3+6GtwM6o55KTtwnbTrR5SSitE3Mj7Tihb7dDX27G/rc2coz01N469J8dPLPK556uXqp+dETKSee0vzwwl8+JiJKevjphr7dL1cvFdBC/qa4KHL17S2n/ZuBFVhgwUC8ztSKF1z90LTvb6Lhi94PhJRvM4Hovz1YJUlpP/jhFyP/CLFLzkmggywGw7nHnzycRES0aZ0ntafTwqDzUXNPBosVWGChQLxG1MULnhhd8f3vuf+l3f3Sw4IyTBieFVh4F4MRUfDFYHiCFCuwwAKBeI0o6YoIxigfzhVYIrIYTGSa4sGzGABWYIEFAvEaKR///tWmpT9YHdF4TUpaTq5RUTa+7h/fYjCci6dERtCeKHeOYgUWWCi+NdcNiHkXXl1ZTUQ+n+zzFTVUv9rk+ueulSd97h/glrbp7RVbH602+9afnFtcsHlfyyPsD+UVjzQWSNcm6IiI9I2NBe3Tefft7Nr2W9NHzL+PbG3yu0mAC1dT3CyndQXFF/23j55uade/eGQarQOIMbgxayb470sVG+57BYh66L3GJsWOU/qEtVmIfHkAACAASURBVHtzoyBgOZvCfJFrPDBy1/Y0XtyBbIUFQVC8Op3OL774gr1l+fLlixYtEqdJIIhix8XGjdK9lqgIWL+mjLbs62m8eMS/YZZ3NmefGkfHFRaK0IMDTqdTq9X6bVy+fPnOnTunkbDza3AAAIBX6N7rmTNnAjcODw//8pe/TEry/1wmNTW1pKQkMk0DAIhlQsdehYwGXL9+vbOzc8WKFatWrZpxwwAAYpvQeC0pKUlLC3qLDtHg4KDBYBgaGkK8AgDgawUAAKJAvAIAiALxOtuifzGYacBiMACBEK/RDIvBAMQwfGtrtiXlHdidN+NaLHvX6vQB34qaE5xN4f7SQ3LxkVOXEra35OJLsbAQIF5nYlYWg+GYMma0ZR9HuEZgMRifWV3cjXS+++au3eTe+2DTyiNm71Qv3E0houTiF/UJgZO9KB5pJOk7luKo6HYDiEpovA4PD99yyy0hy8y4PTHno5O76L6X+36aRINNK480Pbh7k2sW7QuvrnRqTuxuSBpsWnnk/Y/XbPoesxgM0ce/33qApxLnmVfWnejakpaXlLapb/cmniljOCedci0Gc4SYnA3RRfzo5J8ffOrl6t/vevSE5sRTGt1v//IxrfgeOd89QfrdDUnE5Oxb76a99HBS0sNPv3Ch+lXdmf9zYM0XBna2Bp//SpGrb993erTYtxnJucUFm09bdiiQrzDfhY7XNWvWvPfee83NzQJrXLNmzcyaFGN8FoP5vxed9D1Xr5S9GAx7e7BKktJ+8MOTI/8gCjpN4aVL7QV37vfbmFy8o9j9z9zigs2XLhEFeQe+4icPJ9G7rsVgutxbkx7+qXvgIun/PLjUdMHJNGWF9inNtt++/y4NN614oY91/zNnU9zck8H6NiM5NZtahkZJgfEBmOdCx2tSUpLBYHA6gy8W5S0c+E3ZBeSiO4/8F4OJ5E5Gh3qIAmf7Z40NEBHpX5xO3c4zr6w7edHz4ybPv5Ly9Pe9su7k8rd3s7vSPE1x4QlS7tQFmHcEDQ4s9NAUbu4XgylOJtdcq9OoebBp3Umqfqrh4SRihlwvsB/q+8Hb9/350Te7WLOGC1gMJpd7MRi+Hi/A/IEbsyJlviwGs1yaRETkPPPWbu8clBcMR8yb1uV9b80T1WTSnfG+k8FiMAC8cOfATM2nxWDSHqheusu1uxWa6qUXL3ia7RpyTXp4nXL3kV3byNVyLAYDwAuLwcwEFoPhbwoWg4EFD73X2ITFYACiHsZeY5Vix8XGnrVR8R3+gKYwi8EEJL/lnc3Zp9BxhQUDgwMAAKJA7xUAQBSIVwAAUSBeAQBEgXgFABAF4hUAQBSI19mGxWAAFgjEazTDYjAAMQz3vUYz/i/d4kuxAFEP8ToTs7IYjJvPYjBc0SV4MRgi8plfxlOzs2vbb0e2uRZccL775q4L6xq0aRcM1X9Zcd/w7pMXf3jfCw/2vbr7C2n1Uy89HKwpRMSXpEGeADC/YHBghj46uevAspf7djf0bVQ2HWnyTh544dWVJ1JO7G7o26j86OT7zPbv/bShb3fD2wGdUU8lJ+6TNp3ochJR2ibmR1rxQt/uhr7dDX3e6bhGT7e063MDeovv0P7x8fHx8fGLjbR5e/D34B///tWL970cUDMf8+7LP+nbqPzo5KsX1jW8veLifw06gzTFRZGrb2857d+M5NziAt1pDMHCAoB4nSmfxWCGL3qnQmUvBsPeHqySpLQf/PCLkX+E2CXnPKrJxTvc/cTk3OIgs7C6fdT334JWoCAiklavW0FEtFSzJc3nAe4pXV24J4NNTs2mniEMwML8h3iNqIsXPInluxjMwxGcZnt0qIdzc8vGBBep73TaHL7305erybSueuvK6q2GwUg3xYUnSINOwQ0wfyBeI2ruF4NxjQ4UhKwl6eGnG/p2N/Q9pbl4ZNoJK2AxmMB1CYL2eAHmD8RrpMTqYjBJyVKfn13jGB//fhdrMRheWAwGgBem056pmFwMhtUS5jYGZkQ1KU9/35/X/XbrbqIf3vdCtfPVkF9+wGIwALxwY9ZMYDEY/qbgvldY8NB7jU1YDAYg6mHsNVZhMRiAKIfBAQAAUaD3CgAgCsQrAIAoEK8AAKJAvAIAiALxCgAgCsQrAIAoEK8AAKJAvAIAiALxCgAgCsQrAIAoEK8AAKKIvRmzvv3tb891EwAAQkPvFQBAFIhXAABRIF4BAESBeAUAEAXiFQBAFIhXAABRIF4BAESBeAUAEAXiFQBAFIhXAABRIF4BAESBeJ0BR2upzEVvnevGAECUQbxOm6O1skNlsdvtdntbmVFd2uqY6xYBQDSJvRmzooak6PBh1z+zVGWkHhghksxlgwAgqqD3CgAgCvReI8CqVxuVBkvWXLcDAKIJ4nWmHK2lamNZm70IAwMAwIbBgRlxtJYqtGSw6NBzBQA/iNfpc2frYXRcASAQ4nXarPVaM5FZq3Df+4pbswCA5ZapqanZ3N8nn3xy9913z+YeAQDmBHqvAACiQLwCAIgC8QoAIArEKwCAKBCvAACiQLwCAIgC8QoAIArE60xY9TIZJtQGAE6I12lztJaqqc1u90yojYAFABbE67SNDJiV6SmuH1LSlXPaGACIOojXactSlZm1Cr2ViBytlVpzmQrTZgGAF+Z7nb4snd2u0stkMiKlwYIJXwHAB3qv02fVy2R16Ra73d4m1yowYRYA+EC8Tpejtc6oNNQWSYgoS2dvKzNr6/HZFgB4IF5nwjww4vqXtcNI3g+6AAAw9jptkqLDbQMytczI/KjEqgUA4APTaQMAiAKDAwAAokC8AgCIAvEKACAKxCsAgCgQrwAAokC8AgCIAvEKACAKxOsMWfUyGfd0A8xc25gEFmChQrzOgFUvk3WkGzhnerXq1bayMkwCC7BwIV6nzaqvS7fYdXncj6mNZRXl6bPdJgCIHphzYNqydIeziIhzWEBtLGuzZ1HrrDcKAKIG4jXiHK11TLhyJS8ALBiI1whztFZq5W12rAsDsOAhXiPL0dVhJrPZPU0hEZllRkxWCLAQIV4jS1J02F7k/sHRWqoYqLDr0JUFWIhw58C0OVpLZTKZTKE1k1mr4Lv7FQAWKkynDQAgCvReAQBEgXgFABAF4hUAQBSIVwAAUSBeAQBEgXgFABAF4hUAQBSIVwAAUSBeAQBEgXgFABAF4hUAQBSIVwAAUSBeAQBEgXgFABAF4hUAQBSIVwAAUSBeAQBEgXgFABAF4hUAQBSIVwAAUSBeAQBEgXgFABAF4hUAQBSIVwAAUSBeAQBEgXgFABAF4hUAQBSIVwAAUSBeAQBEgXgFABAF4hUAQBSIVwAAUSBeAQBEgXgFABAF4hUAQBSIVwAAUSBeAQBEgXgFABAF4pWIaMxm7R+ZmOtWgMtML4ej32obi1xzAKZpPsWrVS/zkZZduP1QtyPk82yHCvPVKuXW9tBFxedoLZXJZLLS1hk1JjK1hOA633prZKud4eUYO16Zq1LnZxsi3KxZMCtXDWbRfIpXl8Wy9PT09PSkuElnb0eNJrc01O+pJCVrMcWlK1ISZ6eBENQML0diSro8jhbnpadEuF3+EIYQyrfmugGRV1R7TJdFRDTWrS/UGO1mQ2t/wbYM/ickrq/ts9fOVvMghJlejowtxwa3RK45ANM2D3uvHok5mrJ0Irps6Xd1MBzdB7bev1Imk8lW3r/1gHvcgN0N8R9g4O2fjFmbthdmp/lWxTzbU97v3fNYf2sV85S07MKqVptndHHC1lpVuFImS8suPdBl9w46uhqm77IeKFzprifsWvgP3Kv/QK5MJpNtP84MWU50VclkMllaVbf/CKij+0BpdppMtrKwqtU65v/YocBTQkQTtnZ9aXaa795tTRvYeySrPk0mk6XprQG9Qv62j3TpmUfSsgurWvs9NfmOWUzYfE6Yu5j75La7jki2srDq+Ij/ifEc10qZTwVWvUyhNRMRmbUKd1t5Lo3rVXGoi7k+srTs0kP97hMb7Kpx18f5qoCoNJ/jlWhibIyIKDExnogc7aW5mtrOkRSVRpVJ9s5aTYnBGvAByrJ0j6Q4Zotc7v82dcJqKFTrOnrHEtPTkybsnbWaXE9O8DXFaihUaU29E1kajTJxrNek3eAaXRw7XrlBa+q9Gpckl4zUa+st/k9t2lpS23t1+rUIOPCMPM0yIuowM9v7za1EFLdJnRPvU6z/QImm1uycXCxLmTheVdPmc3z6Ek0N+5S4duJo37qhwmieyNKUl6lSRtznSp6jSWfvsfv4JFHcJlWW77Hzt93RXnp/mbHTTrJ0Wbyz16RVFR7o5zrtG/K1pl5nvLeYnn3wxgpN/YhEnhRHV3tN5dub/AN2wmoo0dR09Keoyso1WRPu/UgU5RrlMiKiZUpNeb48PsilYZhryqqOT6TIFtOk01xTqO+eCH7VQtXHelVA1JqaXX//+99Fq/t8tVQqlUqrz7t+/vz9XWukUqn05+/9c2pq6tN3HpJKpdJdp76ampr66s+7VnjKft7ymFQqlT7W8jm7tk/f+YlUKpWuqz7/lf+OPE8YnpqamvrnqV0rpFLpY+997mqBpyJWg746tUsqlUofeufTqampqWGm7sdaPve06yfMI1Pn96zxPOTaj3Tdrvc+/fyf//xqerXwHzjbf/92jacU8+8V/mVce1/B1DT1+Xs/955vT1uGWQ89+/4/pz5/7zGpVCrd9WfmzL337EMPPfRQ9al/uvey5rf/PTU1NdzyM6lUumLXn7/yvRz8bT9fvUIqla6p/vNXU1NTU58e/IlUKl2x57zfy8BV108OMqdl2PXjO8Oehx46+N/M5T74kLvJvi+qPSvcz5iamjr/24ceeuihx975NOBlw39p3A3awVT91akdUvdxB7lq/PUFvCogas3DsVejWmb0/rQ4v05XkEhE8k3H7JvcW+PlmTlkMvNX0n9gq66XSFZWq82K93tsor/XTEQKVU4KEVFiTnmzSTVBknji78DG59XY7TXun1Iysoh6iYhozGYZICKFJk/OPCSTE132ea6yvKJALiEiounUIuzAM9aXp9fqBlrN/TWSbtNlrp6krb+LiGiTKi+eiEiS4v3wyNHd2UtESnVeChGRJCdfSZ3mDott/3q5YhmZL7fqt8vKy/Jy1u8/VuDeY55mWW3t5Q6rbVuKzWwhiitS+Z9r3rbb+rsniWh9PtO/lhfVmjIcFC/xe3dtNZuJSKFZ7zoteSolmc29nVbHphymiCSRObOJiRKiARob83s/I0/PI+rsNVTq48vVOTnbjh3bFnjyKMgF9kiUJBIRxScmEhFddk7Q2Aj/VQtZH+tVAdFqHsbrYll6SjxNjAzYr5KsqrmhwJ0CY/3tdXX17V0DzskQVfQf2F5rJ5KVc4Qr0ZhjhIgonlwPxadkMUFLQYfBHN2H9HWmLovd5x2da/zCU1ko06lF0IHLczTppBs43t26rOMy0bIKtV+60oST+dXn2MeIvZuIyFyhkFX4NGuC8rYcNti3V7V11FR01BDFpatr9tcUyePd+TrQ2T+SYukgoqJ8rpPN3fYx+4BPWxLlOTnygCcHnBaJXE5kJhJ+U21iQY1pZGxrrcWotRiJaLGismH/thyuXOO+NEGEuPZh1wfRZh7GK3PnwNjx7dnlHXZD/fGi/esTiWikqVSl6yWZWm9Uy+MdnfoK4wDn8yesBne4VnD8vhMlSlKIiCY8v6QTY2MTnm4Jt4nuqlyNaTIus7zOpJRQv1FT00lEnmdNCPqNn1YtQg/cla91VYZJomWavIB7LeKTlhFd5symFFkOkZnSVeV57PuhliVOECXKi2qPFdWM9Hd3t9XrjZY2baks4/S2DHe+mi31Ka1EpMnPCTjbvG1PlKUTDbDa4rkG7DoCTovDZmMe4DoBPCQ525r7tjhs/d1dxnpDh6VWU5XS21Dgd7F5L00Qwa7adOqDaDNvP9pKXF9eISOa7NA39RN53r4qyis25eXk5GQs43nehNVQWW8nklXu5+q5EhHFZ2QqicjS0T1CRDTRbdiQmZm5td39qUh3L/O58Ijrd5mIqL/TNElEm7TagpycnCzvh2WJGYpMdmW2Ae+TAkynFqEHTiTP02QSTU7ypCvJs/LiiOh4Z3fA4UkyFMuIyDYm02gZ5flKVcWmrET3zRRjKRl5RbrmBg2xbuXIyFkfR2QymSaJVMrA083fdnlGjk9bWrdmZmZm1vm9fUjMUiqJyGI6zjR1pKvDTESZ+VlC31UzH9On6fsl8qyCLfsbdJlE1NnLukaucOS9NEEEu/bTqQ+izTzsvbplbNFp6spMl2sNrUWHiyQZChmZ7Zaqwg1GCTlsA04i5t0r24S1rtJoJ6K4sY7KDR2ureqaY1vY75QlBRVl9WajWXt/tlGeODJgv0pxqrL1KRSfr4kzmiZNZdnd6RLHAOtdnVyhijN2TBq33t+dEj8xMmAnInJMjBHJC8pV+vIOs1a5st7vSQGmU0uQA/ePs5Q8dSb19vKkK8XnaCpkplq7UbOyPV1OrprcJ3t/WZvaaNYq0wzpconDNuCcjFMbe2rz1JUyY61Ze39J76YssjaZiOKU6jxXvGWpNsUZjZNEpFLlBCZIkLZnldUom7Rmoya7Kz1lzDbgJJJVqnP8KyioKK831/fW5K80uU+LrExXlEIk7MsAkvUaVZW5w1iywbEpT+LoauolkpWrMohIIpfHkXnSUlW4wVhW08x7aYIkeQr/tee/1Aja2DFve69EFJ9XpsskInNdvXWCMrY1myqVSeQcsDkkZQ16NRGRdcT3RpwxW7+diIgmnQNelwNqztIdbdOrMhPHBgbsJMuvNJ3evz6RKD5Hd7RKmRRHV+0jiQV1Jr3S/YzE9bXHDJrMxVftAyPxObq68nQiGhgYmfA+5HqSXsN/RNOqRdCBM1JyVDLiS1dvVXGTTpsjQ1tXpfA9JR0GjUIW7xwYGJhIyS+rO1aTl0iUse1oh0GTGW811deb+iX5ZXXHGgo8kZORXxRHxJOuQdueUnT4A2NZvozsAwNjiZkaQ8dRju+OxGdpj3UaNJlJE/YB+0RSpsbQcVTH866EU+L6/adNlfkpIx3GeuNxR4aqytTseluTVd5QlrmYJp02R9BLE7R2vqs2vfogutwyNTU1m/v75JNP7r777tncIwhnayrM1/Uuq+w4HexbbgAgyDweHIBwOI5XllS22a8SKSuKkK0AETCfBwcgHBMO+9W4JGWlqbYId1MCRAIGBwAARIHeKwCAKBCvAACiQLwCAIgC8QoAIArEKwCAKBCvAACiQLwCAIgC8QoAIArEKwCAKBCvAACiQLwCAIgC8QoAIArEKwCAKBCvAACiQLwCAIgC8QoAIIr5sxjMLM8LDgAQXKzGK8IUAKJcjMUrZ6oiagEgCsVMvLIz1C9PEa8AEIViI149ARr4D0K8AkBUioF4ZdLTL1iRswAQ5aI9Xtlh6vdfzoQFAIgSUR2vfKl68+ZNYiUshmIBIApFdbx6eGL05s2bU1NTN27cCAxZdkkAgDkXvfEaOMZ68+bNGzduOByOOWnPHXfcMSf7BYAYFb3x6sH0T7/55ptvvvnm66+/nuvmAAAIEtVzDvi96//6668nJibmsD0AAMJFabyyxwQ8XdcbN24gXgEgVkRpvPphBl6//vrrr776aq7bAgAgSAzEq6cDyyTsXDcHAECQ2IhX5r/MEMFcNwcAQJDojdcpN2J9mwDxCgCxInrjlQ1fFgCAmBON8co3qavfF7QAAKJZbHytgPPfAp09e3ZwcHBoaGh4eJiIli9fnpqaumrVqqysrEi2EgDAVwzEq0e42Xr+/Pnm5uYvvviCvXF4eHh4ePjs2bNLly4tKSlZtWpVRNsIAOASjYMDnMLN1ubm5jfeeMMvW9m++OKLN954o7m5ecZNAwDgEDPxGpbm5ubOzk4hJTs7O5GwACCGeRiv58+fF5itjM7OzvPnz4vXnnnFsjdhY8uo9+fRlo0JLnstIUvPvtGWjdNpwdw3nI9lL9eJ9l4G32Zzl4bZMg/jlbM3mpKSEu5TwN9oy8a1PY37i5N9N+tPjY+Pj4/vUAgoPfh63eNLDp36TMDezrU+vqTu8SXCynsL1z3+er93e3Lxi9mbpeFFjH/DnUcPeSp/+ajA6TAdpx4R1PLB1+u8LRdQXvFIY8/agOhPLj4yPj4+fkovqDTMllj6aEuIs2fPco63vvTSSyaT6aOPPuJ81hdffHH+/Hl8zBXUaMv2zdR40T9chZfub1zSSW/9q4z+R8Dz+xsfoMorFWlEzqOHdqa3Jl8pSgtS/J6ig1eYfzlOPWJ6+ahkV6GE+Vmx42LjRuleS0D8C254UuGWg4WeQzA1Lq/YfE+ISpxH29/+/rK8P44J2WPe+6Er9EouPnLqUsL2ltwjQq5EeKUhwuZb73VgYIBz+6JFi5544onHH388ISGBs8B0xwdY745D9hIsexP2WjxPcBdn3r9a9vK/x+aoJ/AdOfN+1lO7+wGezZyVWPb67N73R8s7mymw58rbxIDSg693pw5UbF4t7PmUsdmdp0mr/z8ZjY0K6fASEUmSv++3Jbn4Rb1un8AuXPDDlKQ+JKCOz042PEGPlmQI2uE0KB5ppM3vCO2Rh1caImm+xevQ0FCQR1evXr1z507OgQLmrthwjba8Q/vHx8fHx8cvNtLm7SF/h3VrpZdeZN7HtXtf8+2bpfvuvMhs1q0NEbCWvadzmV36l27fLGVqv9hYwMoTrs2clShy9aQ77a7PclpH+lyF96eC4lyhPSCO0mnPbVk7G+s99PdUL169WuKzTZGrb285LSRfgx/mZ387+8dl2SF6mo5TL/6N3ioQ82CTc4sLvBcqsqUhguZbvI6MjAQvkJqa+tJLL/3whz/02z69eE0u3uHu6CTnFhe0X7pE5NOj9e9kFjReZN6kKnL11DPk/o3Xn3K9efPdzEmxw/M217+0u3ZWW3g2c1eieKTR84toOa0raHzEXWh0qIeyU4Wma3ilg3OcevFv9t05IdPKPULa2cVR+M472eeDH1/DXSOk6X+jt/KCjVEQ0bmut+lftxZKgpdi63og3IFdSk7NDvUymXZpiJz5Fq8C3XLLLZGpiJWk0s3tro2uDxpYBI77MUIFAett/Vod+wFvvyu5+Ih3n5ybuSvxdnQsp3X6F73vkS9daifhwisdzODrprfpX/c8F/qNdlLhloNXKg5eqdiT2v34IyedPg8KDRi+hqc9V8FUrh4y+Xx05q+/8YGxR/fdlxRyTwE1H7ySv/wJk9CEFfr3YjqlIWLmW7wGv0OAiIaGhvbs2XP27Nlwn8jFsle6mRovukcHClybg/RehSi4807+B0dbNq7VuT6r5/ioWBj+Stz5ajmt8w4MENGddxYEVsMrvNK8Bl+vq61eVvlOGGlFzFjtH6/4xqvQ7nTIhqetXkZ/GXXyPXyuv4uuvp1e5+pHM/8OFsdsGdm7hRUkokuX2oO+TGZSGiJmvsVrampqkEfPnj27Z88eznGA4E8MwvVbO9qyPQK9V8vetb5jf0wn0y+d3b8qlr2+vdew8FTCfA60cV+Pd2CASPR3oxyH6cpWrhsGmD9ffJ8kDjb/zb47w/dZHPnCWUmohjtO1V2WFf6rN+79Gn5PkbsrWnHwSn4eLX50oOKgt+vNeTXdzrXW+o4aBznMuRurgXDMt3hNT0/n3H79+vWDBw8ePHhwfHycs8C07spSPNJYoFvLDA1cKm6cfpfNVUnC2p7Gi8FvoUkuflHfvlmakJCQkLDvzsbp9V6DVqLI1be3k//nO4pc9mdxoXCUdo2Npv/N7urfse/xVOTqidjB9tnJtmoiulzLdTdrcm5xge8YCvvW1FrKP+g3mMD1gVVgJXyHybo11XS2ULOLPa4a0PBQp8WvdH+j5wAfoMorPp/+cbeQiGj0dEu7z5uLoMIrDRF0yyxP8ffJJ5/cfffdwcuwp9BmFim4cePG+Pj41atXv/zyy6VLlwZ/emVlZeCtr8uXLw/y4dXSpUtra2uDV3vHHSJ9FDzaslF66cXwhmdFZdmbsO/OwJQfbdkobSn2287beM7S/EZbNko3Z58SehYsewX8JQrVRu5KRG14ZA6T5wLxPMBbGkQ333qvRFRSUhK4MfiNAZxPWaAse9f6fKjlkVy8X9C9Z+GWHm3ZmJAgPHQsewX18lnlpZuzT/lVHaQSsRoeqcPk+eoc/17DKA0RNg97rxTOlC5ElJ+fLyRe53/v1bI3Ya2OqCBYcvl3hUZbNrrvmNAHBsfcd5xGWzZup/1ht2DuG87HsjfhdC7XF5Bdl8H36nGXhtkyP+OVBCeswGwlEeMVAOan+TbngEdJScmKFSsCp9P2wHTaACCqeRuvRLRq1apVq1adP3/+/PnzQ0NDzBe6UlJSmMVgEKwAIKr5HK8MJCkAzIl5eOcAAEA0QLwCAIgC8TrbnF3bqreu/P2Fmdc02rIxNpf6ELbUCt86LljgBGIF4jWaOc+8whvEnLfLR4sgyS/4Rne+dVywwAnEivn/0Va0Sco7sDtvxrVY9q7V6U+NR2e4BhHWijI867hggROIEei9zoTzzCvbzjg//v3WldVbV1ZvNQx6t6/8/QUabGK2bzvjmsHOU9KzhbeSwaaV1VvXnbxIF15ltq98s8vznNGWfTq9b8+VZ0mZsFeaYU+myCrtM8ciaxmbhL0Wz9SxzGbLXtfct+5patgDAdxLrXAubkNE/Ou4YIETiAWI1xn66OSuA8te7tvd0LdR2XSk6WPPAxdeXXki5cTuhr6Nyo9Ovs9s/95PG/p2N7y9greSE/dJm050OYkobRPzI614oW93Q9/uhr6n89zz4PFMgeRZUiZgLRjBK82MtmzfnH0qYBpFZiCCc4pZ3doEpnb36jaKHa65bz3zyXo7mZxLrfAvbkPEu44LFjiBGIB4nakVLxxYk0RElPb9TTR8EVM0uQAAELFJREFU0dsrVb7NBKL/9mCVJKX94IdfjPwjxC75Zkd2LynjtxZMOCvNEFFAanH0lTl2KqBy7nlHgyxuQ8Q70z4WOIHoh3iNqIsXPDG64vvfc/9Lu/ulh8OacD+40aGe6T85+KIgycVHTuld7+qFfXrk7UUrdoyHGAzlWWqFd3Ebpkk8OYoFTiDqIV4jSroigjHKJzk1e/pPDrkoiGKH64169mZphD+f51pqJeTiNnxT7WOBE4h6iNdI+fj3rzYt/cHqiMZrUtJyuvCXj/03T7Pj5r/STNClSVhZmJya7R4xGG3ZKGj9GdZT/LZydUSDLm7DE6NY4ASiH+J1ptyf7D/q1JzwfvrEXdTAlLxAH53c5Xf/ALe0TW+vMD/qf+dAcm5xAdfn6TyErzTDvj9AujnbM2a7wz1iIL30orDVE71PYY8ycCy1EmpxG85Pw7DACcSEeTvfa8RxzffqPPPKuss/6ftpwK0AorPsTVhLAia+j/xc3TObaXoaS63wrOMSpdNdA3ih9xqbmN5h7H05NKwVZXi+mIYFTiBGIF5jlWLHxcaemAzYI6eyhQTsaMu+nsaLgf1uyzveYQuAaIbBAaGwGAwAhAW9VwAAUSBeAQBEgXgFABAF4hUAQBSIVwAAUSBeZ9s8XQyGszHCWsiz6gvfYjAAsQLxGs2iaDEYYetj+T1FWAt5Vn3hWwwGIFZgMZjZtlAWgwmnhTyrvvBsBogR6L3OxIJYDIbZslZH7plX2NV4apZubvethmMKblbd/j1hnlVf+BaDAYgFiNcZmv+LwSQXH2FmYi1ovOi7Sgzz5X9m48VG9lyuXC0cbXmH9o+7CgfOO8Cz6gvPZoAYgHidqfm/GAwf7nUJeVuYXLzDXdavgQyeWWyxKgHELMRrRC28xWA4cbeQNTbgN5TA7Jt7sm0sqgUxC/EaUVgMhoi4W2jZK91M7uEF36EEBs/6A1iWAGIW4jVS5u9iMJ59+o2BsjZZ9vr2R3la6IrJ0ZbtHL1XniEPrKkFMQvxOlMLYDEYIvc82FL2nQOsTfvuvOizSAxHCxWPNBa4WiK9VBzYe+VZ9YVnM0AMwHyvQmExmPAIbSGDp51z13yAmcPXCmKTYscpfcLavbnRmzzhtJD5flfAVxB4NgPECAwOxKroXwxGaAt5Vn3hWwwGIFZgcEAoLAYDAGFB7xUAQBSIVwAAUSBeAQBEgXgFABAF4hUAQBSIVwAAUSBeAQBEgXgFABAF4hUAQBSIVwAAUSBeAQBEEXszZt2JuZUBIBag9woAIArEKwCAKBCvAACiQLwCAIgC8QoAIArEKwCAKBCvAACiQLwCAIgC8QoAIArEKwCAKBCvM2LVy1xKWx3ezY7WUvd2vXXuWgcwu7wvfJ/fhwUL8TpTSoPFbrfbDxdJfLeXtdntdrtdl8XeyLz8FmrkWvVh/t4xf738ThdvLQGlef74cVfiLey7R/Z23qcIuaJCrz3rb7PPTtnbeZrhe5icf+T9avc+wFML32nhvg6SosN2u93eVhb6dCwIiNdZ42gtlVWSaoG+8qx6mawj3aAM6ylqW1mZ0ncTby0Bpa16NTF/4iwG0ip8gySwkiyd3cVisKl9YsP1l9Lnr6ijtVTmrt//j2igcK69K6Jc2sqI5HKJ7/Y2ufd4+A7Tqldo5W2uOozsA3J1CNgNd7SWqm3MZnYtjtZS7zG2lRnV3p2GfTUXJMTrLHG0Vg5U2A8Xyee6IXPCqq9Lt9h1eWE9RW0sqyhPF1YLR+ksnTs8JHkqJdlsDoFNkchDXyRrvVbeFjJVXWZw7a0dRqWh3H83KeneYOM+TEdrnfeJWeUGpbmji/9dg7Veay6rYP5ySIoqysjYYSUiGhkwK9NTAnY6jau5QCFeZ4mk6LDAX8b5KEsXMHgSnFWvNpa1+Z0x3lo4S0+7KdYOo1KVF7SMtcOoTLcJHRuY9rV3tNYZ3bHH3tzVYS5TBa1xZMDsOQarXqE1k3lghHc3Nhu563O0lqqN5ErpLFWZ2dWVdbRWat07DftqLliIV4g+jtY6wXEZujSTDIEpFViOGZZU+0eaUe03Kumw2cisHVDZud57R461Xks+XVfXQKjCb7O7+QGHyRyRmtrsbWWe7juZtQr+wVRFh8piMShdYZyls9vbSO3aLrS3Dm6IV4g2jtZKrTyMcA1e2qpXaMlgEVCdZ3DTkl7n/czGOyZrb5NrFZ7t3kDPKvfEUSQ5Wuv8e9GetlQMKAKy0f8wzVqFYqCCGWB12GyBI7gWg03tqcWoltWlW5jRZe+YgFUvc21uk2sVuB0gXIhXiDKOrg6zp8Oo0DL/5v3FDl7aqpepjWVtYb6XleSpOPMyy/3ZlEQu93YGRcIeD+VsCasBgYeZkq4kpTdtfQZR3SR5KmY0VSKXE3mf7sliZgC3tkhCRFk6e1uZWVu/QG96mSbEaxRg3sMt2K6B3w1VPp+cWwxKKmvjuO+NQpd2hU74b2mt9VqusU2rXu3uTmapWFHDU1zozrhuPvP9aCqAT8eW8zAleSqlWVvZ6ggozqrEM5qapSojz20Bvofj/TNj7TBSYEZDMLG31lassuplaqPr32qZkWg6v/ixytFaqtCamX+bFTItKQ2W8D8eCasWR2udkYiMapn7rDMnnKcS9mb2pWFftrI2+2H3gIDOYihVyGT+xbmFe+2Z5Gs77HNo7Eq8B853mJKiwxYqVShkWr/i3sNUGix219nL0tnbSOaqw9M4SdHhtgGZp2ZPLZG5mgvBLVNTU7O5v08++eTuu+8OXoZp0pTbN998c+PGjfHx8atXr3755ZerVq2alZYKYtXL6tIDX1qO1lLFQMXCSU8ANp5fi4UHgwMAAKJAvM6U6zaXgJFT18ctC/ULsLAQue5t8wxiLHQYHAAAEAV6rwAAokC8AgCIAvEKACAKxKsYMJ02LEg802kv2Fm2Ea9imdF02r5zOHtjmndKZb5A59zOO0M0Ty38UyoLnx58gf/FCTKzN4eQE2H7V8KZX/yn3H8ecL6XG3/DeV4SPNNpL9xZtqdm19///veQZW7evHnz5k3mhoGvv/76q6++unbtmsPhsNvtf/3rX2ehkTP2ectj0urzHBsfa2mplgY+FLq2x1o+99t6nlXR5y2PuQucr5Z6C7PKsLefr+ZsAndpn2Px26ng4+Fr4ALhPeGftzwW8nyFPlnnfU46dyGeax+6BayXG/uVx6qP9yXB2jfXJebZPI+h9zpLpj+lsqOrg2tuD/aUypKiw+6vyGSpytzfEw9vSmW+0jxTKod3PNwNXDB4ZvbmEfpksa+9o7XOFvidVN5rH3IecNbLzWdWmaxygzL4LNsQAPE6S6Y9pXLApJ+MSE+pzFuaZ0rlhT09+NxiX3tHV4dZTl3+YwN8VzPkPOB+LzfWHC7eacJ4XhIQAPEa3QLnqw86pTIzq5PPA9xTKgfMEM1fOrJTKgc2cCEROrO3i//J4rj2IwNmMnZQLdeiYoFXM9Q84L4vN995wfTe72Jhlm2BEK9RjWOuuyBTKjtaS/2m/eSeUplvhmju0hGcUjmwgQuK8Jm9iThPFve1d0/J6lony/0nlPtqBp0H3P/llqVrK3P/Ie5QtZW568As2wIhXqNY8Ek//aZUdrSW+v3yCplS2TNDNF/pyE2pHNjABSW8mb1DnCzvtU9J55z5m+dqBp0HnOvl5v1LrEux2ZjXD2bZFgzxGgV4ptMOOl+97xzJ7t9Gn19eAVMqs2aIDlI6AlMqczbQ04h5f7tWkJm9OY4+2MlyFahjXzZjnXsNMM92vqsZZB7woC83R2upokNV63kUs2wLM8t3KizcG7POV0t9eQt83vKYNODeGs7bbdiVsB4MqNv3Nhy/4uzSvq3kKs230yDHE4i/gZ4Hw7xbLZZ4TyvHuQo8ep6TxXPtfR7x2c59Ndmt8WtGwMuNu2jQtrgfxo1ZU1NTU5gxSwyYThsWMp7ptBfeLNsYHAAAEAXiVSyYThsWHJ7ptBfsLNsYHAAAEAV6rwAAokC8AgCIAvEKACAKxCsAgCgQrzNk1QucIlnAzMS+1XBv55sjOdh8zXzfCuP+tlRgaa65k/lmYOaZZ5k9F7RMyCTRnMfDW8sCnhAfotksf41hXn1r63y1VFrdwjnZNWdhjimVeSYs9p/TmD0xMscz+WrxPFhdHfCFmfPV0seqqwO+XRZQOuTcyVM8E377bGRNEe3fCPaOAqdx9pn9maeWBTlFN8QA9F6nzaqvS7fYdXkCi3NOqcw3YTF7u6SoooyMHVa/OTckRRVlrjmS+WohYqbAI0O5KqDxamNZRXm632aO0gLmTuae8FsiDznVNnsiJ1Z57qPnr4VzQmmAOYd4nbYsXUR+o7kmLHbYbOSZL7m1VG0kzzxHnjTynSyJc9pjd1zWBn47UW30zkvnwVk69NzJPBN+Wzs45pDxJclTKd1Tjnpnlwly9Fx4JpQGmHOI11nHnlKZd8Ji1wbXhMUWZl5Ov9mRKrVmphxvLdZ6rnB1tNZxhStP6VBzJwdM+O0eBVX7zQNu1ioCxkwlRYftFlWHQsZM+nw4YN5w1tHz1RJ0QmmAuTTLgxHzaux1amqKb6FBXgHDhN7Jh6rPu8dnXTMVsZckZA9FuiYqOs8aieSqhT2w6VsDe4TX/W/u0j4tPl8dOEESz2hskDPjP/TMPuQQR89Zi9/DC29aJoha35rreF9Q3NN+sjtpWTq7Xcf809FayrzJl8jlRHLP1MsOm43kKtdQ5GF7kac2rWsrZy3WDiOZSSHTenalkGnL3jLYzGQ2y7z9ZLPMqDRYKga4SrfZy211RqXB4pk7mWTqemuRuwvLjAZbuGcGk+SplNqBESJJwGYaYI6gXmsuazucxRyYhUoVda3lh4t4j56zFvcYCYZeIerMcpwvlN4rxxym56uDzmrqWw+7MGcHMZzP8Kf4+nScC4b7lvZdt9mv7x2k68r7qP+NEFwrRIc8et67L8J8LwEgJvRep83RWqpwj36aFTItKYN9fO1orTMSkVHt6TeWtdl1WaxKytrshz3dQFdHkSnsnebeqndPO6Q0WLydYL5aIkBSdLhtQOZpNfsYmYX2fLuu7JPCajd7M6vlWTqLoVTh6TJ7yvMcPU8tTBNdtQS9CACzCjNmAQCIAncOAACIAvEKACAKxCsAgChiJl5vueWWuW4CAEAYYiZeCQkLADElBuKVnapIWACIFdEYr8hQAJgHojFeg0DyAkCsiN5vbfmNCTDmsD0AAGGJgd6rJ1WRsAAQQ2IgXhkIVgCILbERr0y/9dZbb73tttvmui0AAIJEabz6DQh4svVb34rewWIAALaoTqtbbnFN6MUk7G233RYXF/fXv/716tWrV69evX79+tdff81MDktEU1NTGEAAgOgR1fHKYHdd4+LivvOd70xNTd12223f/va3b9y4cfPmTc+cirM8uSIAQBDRG69M19XTgb311luZeF20aNGtt97K/OObb75huq4AANEmeuPVg+m9Tk1NMfFKRLfddlt8fPyNGze++eYbYnVamcEB9GEBIBpEdbyyO7DM+EBcXBzTjb158+aNGzfIvaiBp/ycthcAwCuq45XcCXvrrbfevHnz1ltv9XzGdfPmTaYnyx4cQL8VAKJHtMcrsfqwTKoyP3pSld17BQCIHjEQr8R613/rrbcSEdOTJdaih3PYNgAATrERr+Q7rspkqwfiFQCi0P8PXhyeJy73sM0AAAAASUVORK5CYII=)"
      ],
      "metadata": {
        "id": "36KI1b3H_nGn"
      }
    },
    {
      "cell_type": "markdown",
      "source": [
        "Las operaciones con escalar con como cabría esperar, propagando el valor a cada elemento."
      ],
      "metadata": {
        "id": "sSiYRFCn_otv"
      }
    },
    {
      "cell_type": "markdown",
      "source": [
        "![image.png](data:image/png;base64,iVBORw0KGgoAAAANSUhEUgAAAdAAAAFZCAIAAACngOlHAAAACXBIWXMAAA7DAAAOxAGILj6jAAAgAElEQVR4nO3df1Ab550/8I+TFoJrM2OMJswFSCTZY8NcJsB9bTGHLez6V+uKtGdhXyE5A3bSkCYNTmxEOrFyN8j9AdiNya+6l8QQ6sAlSJnEkPQcJzXI4WrZ3wCdy1eisaUkgnSIRfDV9iGDf+j7x+rHStrVbxZJvF9/waPVs8+uVm89++zq0YLPLnxBAAAw+xY4HA5h1nT+/Pnly5cLsy4AgDh021w3AABgvkDgAgAIBIELACAQBC4AgEAQuAAAAkHgAgAIBIELACAQBC4AgEAQuAAAAkHgAgAIZD4HrlX3+Pcqnxu+yvng8HMbHu8ZJyK6ah0etnIvBAAQhm/NdQNm0dULPc8deGVg9H+vf/s7OSUP73+ybNki94MzF3TNPdJf//uTBYsCVEFEZO15+umvG7SN64MtOFeGn9uwt9e/WHHooycLwqqEwnoGAIQr8QK3qampoqIiNzc38GIzw89V7x24b/+L2pLclBnrwHNPPf40tb9YluV8PGWZ8sX2kFaY/9h//mdULY5CSBtb8ORHHz1JRDTe8/gDJ7a84dlIAIgriTek8Je//GVqairYUtaew72LHvqNen3uohRKWZS7vmFPiemlrmHno6eaHr//exs2fO/+x5s+Hnc/6arxFaa4WtNz7pKrdPi5DRueG/ZfokvzPXc5X43CbCy/q8aup6u/t2HDhu9Va05YiYiunm26/3tPn5okIiJrV/WG8peMw89t2LC3l6h3r2tLrw67n/d0lxHjKQCxkXiBG5Kr5nOjd24pYXUMU1Y/fKhxfdYM0dWPNT956X/LXjz+0UfHX1w/eqBa8/FVIqLJUweeOnHnk+1/+Oj4b5RX/3zWv9bJUwee6ln08It/+MPx3yivDgxcd62Np8a5Nq57+qmBVY3HP/roD+1V9NLjzw3P0KLVj6lKhp97fXiGJk+9/PpVxf6H8wue/OijQwoixaGPPnqygMja9fjTp3L2dH700UedP71T97PHu6xzvSkASSFZA/fqVcpYlMIuSskqWF2QlULjp/6jL//hPVtyU4hScpWNT+b3/cepcaLxAd25/IcfW5+VQikZ+RU71/tVOj6gO7fs4T1ly1JSUjLyKx7a4irnqXGuDXe9MlmlUuamEKVkra+qWHTilJGIFq15rCH/xOFXul55zrhe9XBBit/zdK9Plu15rCCDiDJWP9m4bfJ13bB/9QAQrsQYw21qavrLX/7i/re5udn999GjR8Ora/yC6c5VqgzXvxk50u+YLowT0QXTd6Q/dZen+OUQjV8wkfQh//FRvhojHEmN1caOj5qvf91bs+FVT5HC2cL1ex7TPXD41Kr9nav9rwSOj5qvr/rxMvf/ufn513Wj41SAkWGAKCVG4FZUVLiHMpubm3/84x8HuY60aNEimrw641U2c/XqTMoiv4CZmZnxLYpSlDWGvbEBrNr/7q+57q6YuXqViK5eDaWhzLIAEL3EGFLIzc1d6eL/L4dF0lU5X584xxp6nPm46YflrxiJspblfX3ONOkqn/x69HresiyirGV5/2sedZdzhGbusjwa/XrSr5yvxgiFvbE8Mpbc+e3hj4c5MnVc1/zqop/uLxt/6fApjs3JkX773J8veJa2Wr8tzUH3FiB6iRG44cvdskdx9ZUDz521zhDNXLWeajo8kPdYRQFR1vofrzO+8tKp8RmiGWtP80vGdT9en0WUVaJc5SyfmRx+6dVTfnVmOJewzszMTBq7Xj3hLOercY6lrFGWLeo73HRqnIhmxk9pKp8+MUlEk6cOvzK+7afK9VWq9cbnXjnL9F+zcqU0Ojo5MzNDBcqqjJ6Xu4yTRDQ5/FLz2xlVStyeCxADyRq4tKjgyfZfr//65cfv37Dh++VP9aQ8/OKvmftTF61R//vD9PpP7t+w4f7HTyx58t/VaxYREWWs3/+bLV8/V/39Dfc/1ZO7arV/nc4lfvL979//lG7Rfe4l+Gqca/mPtR/acuml6g0bNtz/E13GHtWWDLr68UtNwyV7qvKJFq1++Mn8U82vDF8loqySipLxl7Z//6kTk5Rb8eKv7zv3bOWGDRsqD49uOfRiRaRDGgDAhl/tjdTMx5rv/0cBvmUAACELctHshRdesFqtDQ0NExMT7Evn/pYuXbpmzZqYti3uTJ546vGzZb9pWJ+VMnn2pcN9eVUPI20BIGRBAndkZMRut09MTIyMjBw/fjzAkitWrEj6wM3Ysn/PhQOP33/g0vVvL7lPeejX6N0CQBiCDClYrVar1RqTJE22IQUAgDAF6eHm5uZGfhMoAACwBLlLYWpqamJiQpimAAAktyA93H/913/95ptv/u3f/s1qtQ4MDARYMicnp7KyMqZtAwBIKkF6uAsXLhSmHQAASS/IRbOpqampqanMzMzo14SLZgAwzwUZUli4cCE6uQAAMRFkSCHo0C0AAIQoSA+3qanJbrcvXbo0lC8+NDQ0xLRtAABJJUjgFhUVjYyMZGZmBp0bMCbjvAAASUzQyWuEWREAQHwS9BcfcJcCAMxnSTsfLgBAvEHgAgAIBIELACAQBC4AgEAQuAAAAkHgAgAIBIELACAQBC4AgEAQuLPNZhwyX57rRgBAPEimwLWdOfrEttUrJRLJytU/eOS3Z2xz3SCiyx/Ur1UoN61uHprrliQqm7ZaIpFIqrVx8GoCRCtZAnfaeHTb2soDvcMTM0Q0M2E62VIp26gZmp7bZqVn50lTaHFpXvbctgMA4kGSBK7x6BMHhmdIUtlmsFgsFstwZ42EyNL2RPMcR27+rvdGLH/+XZloTlsBAHEhOQJ3SNdqISKlWl3KJFt6sepAZQrRV226M9Pu89L6o9r92+6TSCT3bduvNXuSeNrco3lk430SiWTlatYjQxrmZPZMzxOrVzpPam1nfsssKblvo/eoxeWhN5wDGuxHmDokGteQAs/znas62u9s4MrV1UeNngZ6Bkt81mo7c/SJbfdJXC03cg4Wc7cs8taw8bWMv2Fj/ex9zXqAf9d6bYxRu981buR5rZwvsKZ/6Lfb7mPtboD4khSBazaemSEiuSw/1V2Wmi/fTESkNRjdZboDqp7L2ZLFdGW4U/WD+g+YN/uY9pEf1LWdtJAkT5I6Mdyp+sEjPax3+5n91XW9EzNERLae6rWVLSfHshWVigKynGyprHD2oKeHmrcp1b3Dl9Pz8jKnLSdbKtc+8YFf+jmfb5nOdC9VrR3zPK4/ULP/g+lsyWKamdAf2KY546xbU1F5gF23c63TQ80VlQd6jdmKmtrKwunhTpVi22+NPuvkb1lkrfGum7tl/A2z9VRvrGHva9YDPLvWd2MUqs7h6cLKSnn6Zb/X6o1HKlqGr/g+CyB+OITy2WefzVbVg41isVgsbvwTZ+mgw3Gxu0osFou3vvb/HA6Hw3Hh2D+JxWLx1mMXHI5rf3pmhVgsXtP4p2sOh8Mx2LRGLBavefn/eSpYUfXy4Ojf/va3axeObRWLxeJn+q453M8TNw463PVXdY86HA7H3/qeWSEWi6uOX/RqhGOwcYVYLF7xTN/fHA6H49qfGteIxeIVz/zpmnuxfSeYh/r2id2tGGUa66z74vGfiMVi8c9O/M3hGGxaIRaL/+nYKLO5L2/dunVr1bELXjshUMsiaQ0bb8t4G8as07WvL7z2T2KxeEXToMMRwq696HBc63vG/bqxVn/RvZR4wzPHL1z829+uRXwoAcyqpOjhhkqUzgw4SEsrZURkMpgvk/Fk5wxRSpmiOJWIqHDTZiL6ymD09JseqHu0MDs9PT1V+sB7FovFcqA0lYhSpQXFriWmjcN6IpIpirOJiNKLa7s6OztrWf1tIiLjmQ9miOgBRWk6EVFqsWIzEc1o9Z5OabqIeSg9nYjoq4lpItuZk8NEJFeWZhMRiYo3yYmo12AmkuaVEtFwc71G228cy3/0vffee6/9ASl7nfwti6w1bPwt42uY80xk8yZmX0vLWzo7O9s3iaaJd9d6SS09YLFYLO8x25idX+i7gLy2rkwqSk9P9X8uQDwQdALy2ZIuySMykXnMRuS+OjV9eZqIKIXrzZdKqUREly9P26bNREQzR5SSI6wFbNPco6HGntbWIz39JmaIwV1sG2PVSpSaXVjsf1vC9MRXzpU7ZefJifQzga/qjVnOEBHp62SSOnZll6cpvexA59jlR1oMbSpDGxEtltX/7vlHi9nX5/hbNhRRa0JrGV/DLltMXutMlxYXuz4feHatL9uZo5rWzn6DBQMHkIiSInCl+cUpZJrRG4zT5aWud7NRryUiKpflE/mm5zRNExFli9JF6VIiPWXKKssL01lLiDhyeuyNaoV6mCRKTZtSmmo7qalrYwIkXZTNqpWIpi9fniZK9e5qpWbeRfQVuReiMZOeeD4RPLIlxUR6ylPUlrIz/K70aaJUUfGjXX/eZTMbz/S3HWnuNbRU7s8e/l2ZZ0MCtCyi1oTaMu6G5TMfjJ51ultj49u1XqbP7F9b2TmTUlDb2ikXkbGt8sDJkJsLEAeSY0ihUFknISKdRtPPDAVcPqOpb5shuqtGWeyJENtl5lFzf6eBiArypKkklSmIaMKWKq9VMSrl8krVZv8eqvMUWlZb90BpcXFx/l3uR1LzC+REZOg9M0ZENH2m+QcFBQWP9Ix5PT+/eHMKEb3R23+ZWar3AyJKKZfnB9o0Ub7sLiIyX5ZUOttXu0muqHugMJ25Mr9SYxRJC8t2Pf87dQERnRw2s5/N37LIWhNSy6b5GibNL04hog9OMtffxrSPFBQUFLQOBdi1XpjhH3pApSorLi4ulKZzLwYQt5Kih0uUv+v5/Se3HRjurJF1ekolNc+rClldNtMBxX2deSKbyXKFKEVRW5ZNRJtVzfIPVPq2ygKtJC+bxkyWK5S3/+R7u6Q+6xDlyySktxj2b/tBm4hsZtMEkXPkQlRWV3NE36ZXbVzdJk0fM1muUIqiZnM2EfvmpsLaFvkbdfrOmtUf5EnJbJqYoRT5gdriwJ3K/F3P1+iUbXqVfGVznlRkM5smZlKUbWdbSjdXKvbre9sqfmB7oFRk639jmEhSq/AOTP6WZUfUmpBaxtuw1JoD8jdU+rbK1f152ZfNpgkiSb2ymERG3l3LJpUpUtp6Z9oe2XgmO3V6zGQhco7+IHohMSRHD5coNX/X26c79ysKMlOIKCUzb1N9p+FDdaFXfMhq6svSxyxXaHFBZfN7LZuZt2l2efvpzvpNeZnTFpNpLLVAsb+z3S9tiYjyH+3qrJdn0oTJbBPV/E6jJCIaGhsjotRC9ds6jaIg/bLJZCHJpvrO089v9ksBUVn76c76TZLUCZNpIlWyqb7zdHt50O+gpRaq3+5trpRJUidMJtN09qaa1vcOlKYTpW9+/nRn/abssd62I20f2PIV+zu7VIWp/s/mbllkrQmlZfwNyy5v/7CtZpOELCbT5fSCyubetx/ND7xrWdI3t7zXXFmw+IrFNJZarG6tzSMik2lsjr9OCBAyQX8mfc5+tdemrZap9CRvNrSX4ztfADBHkqWHCwAQ9xC4AAACmR9DCgAAcQA9XAAAgSBwAQAEgsAFABAIAhcAQCAIXAAAgSBwAQAEEtJcClar9d133x0acv5wSWFh4Q9/+MPc3NzZbBgAQLIJHrhWq7WpqclutxcWFubk5IyOjg4NDY2MjPzsZz9buXKlAE0EAEgOQb74MDU1VV9fT0QNDQ3uLq3Van3hhRempqZaWloWLlwY4prwxQcAmOeCjOEODg7a7faKigr2AEJubm5FRYXdbh8cHJzl5gEAJI8ggTsxMUFERUVFPuVMidVqnaVmAQAkn6juUrDb7bFqBwBA0gsSuJmZmUTkP3TAlOTk5MxSswAAkk+QwC0qKkpLS+vq6mLGFhgTExNdXV1paWlr1qyZ5eYBACSP4NMzjoyMvPDCC0RUVFSUmZk5MTHBXElbsWKFz8W0wHCXAgDMcyHNh+vzxQcmapuamsj7drHAELgAMM+FNwG51Wpl340bVuYicAFgngvvLgWfu3EbGhqIqKmpCfeHAQAEFdVtYezMnZqailGTAACSU0iT1wTAZK7Vag39O74AAPNTtIFLRLm5uZg5DAAgKMyHCwAgEAQuAIBAELgAAAJB4AIACCQGF80Ec+3atbluAgBA5NDDBQAQCAIXAEAgCFwAAIEgcAEABILABQAQCAIXAEAgCFwAAIEgcAEABILABQAQCAIXAEAgCFwAAIEgcAEABILABQAQSGIHrtls3rhxY35+fn5+/rlz56KsZOPGjWazObYtTHrj3TvSDho8/xsOpjnt6B4PWjw/jHfviMHGe2rx2uHzA98u9BxXXvvEcDBe91FiBy4RLVu2bGBgwGg0rlq1iimx2+319fVMCh86dMi95KVLl/75n/+ZKdfpdO5yqVT64YcfDgwMLFu2TOjWJzrDQfHO1X37ZF6FZR2f2+12+1vbs0IotvU92Lo7QzsS86ad0+7OaN2d0bo742jf17Gt2tjhrDnElmdtf8tut9v7NFGvWdNnt9vtdp8d7trYw8aoV8DGvDRhbWmYPK9RsMr5dqFsn91ut3/eUeZT/GDH2XVx+dGeSPPhhuj9998vLi5uaWm5dOlSbW2tTqdTKpV2u/2Xv/zljh073nzzTaY8NzfXndEQEcPBdWpNn9333R+yr//4i7wvSl69i96PZauIiMjYsYXqJ+tWEk28fbQhT5s1Wb4yZpXn75zM30lETOUP/rHp2HczY1Z5BIwdWy6XPru4P/Y1L/4X0651d8a+XmJ23UPpzGsUe1nb3+r7Mu2J7rW+H/tzLeF7uP6USqVSqSSiJUuWrF69+osvviCiTz/91Gq1fve732XKd+zYodfrZ2f9nrOcYKc14907dnSPu5d3L204mHbQ4D6JCuGDmnW26VnacDBtR/e4+yFn7c4hANdKWZVzVGI46LUN3v+Odx9Sa3x7t2Gw9e2dVE7uWpcTaQWB5O90JWxmyT0Sujwe406uU2ZO+qzUG46Rwyf7ny3emmC/m218/6H0+lh+CvqRPdhBO4/F28BCEgYun9zc3DvuuMP99/j4uN1uj/laDAdPr7Uz+jTqdcFGknp2ig/d/TlzVqQ+5Ek/9Trxl3uZsyXa+UTgyB3vPkbPM6v0Wbpnp5ipxrt29bo0ZqV9mh7XIclZiWythtSn3Z8Dp9WkWesK2PHT3T2e/yIgWndsNt9vghgZ+Eqy7d657N6e07Y03lW/J38OmxCJc8b+rRnjh13jFTEeDGFkrd1e5jl640QyB+65c+f+8Ic//OhHPyKiZcuWWa3WTz/9lIguXbp08ODBWVqpbJ+7zydbq6Gz1nHy6jz69mY1fcxJT9ba7WU9X37pqqas43OmHp9yLlnb97nOm3yXdlXjU+5aqaeFPJXIHuxwH7OG0+qyjgfdCfvllz1ld98d7u4RnK1v739bni2O8Xnx13/8RUbr7ozWlsa7lNtEMa06LLa+1q9KT8ze59aV3+c5M7EjwkvS3CZGL9P7/20tqXttsu61yU2ljSd/8bYtlisgIqKs3NWuwztuJOEYLsNsNv/85z//1a9+JZVKiWjJkiX79u2rqqoionvvvXfXrl2ffvppWlpa7FdsOJi2Tu3+r6yDiBny3x5FnWet4yTjH4sa794h3tnj/lez17327WtdIbr9LU9v3tMxle2zvxWwkqy128t2njbsk8kMp9WavXZ3I8atZ4niPm9HDnf+nu5tinkH8M7vPjP5XSImeY+WzNpAZ2ATb/f8/v9sem22LkSI1h2rW8f8+fUff5HX2nGibmcM1/XsJldt+VtfPdNgtRHF+qPr7ruZnkMcDeMmZw/XbDY/8sgjjz76KPuy2KpVq4xGo9FofPPNN69evXrPPffEfsXj3TvWqZ2XklnXVAP0cEOyOjfAIWM4KN5JzB0AHNdrQ8Rbieu8zHBa7TWAkJW7OqIVCWjkcGtL4131s3pF6857S7ZesVpnbwUB2D59+wo1nmR6oA0PMX/H/JYMImI2M5b1Zeak0/8dn4hllVzi8CwsCQPXnbbMpTN/Op3uzJkzW7fG9BDycL3EhoPunq7zphaWUK81jXc/sdNrqJS52uWb185EHu9+gtVJDRd3JVnb92rUh3YcOssaTiDy9B5mB/dmOj+5Qrnfx5m2XJdleCoJvW6Wc/2/f/+u1Z5P9TAr4dnM0IjWHWNOyetem6xrenUxPbvptUlPXzuGmznxdk9omxny9qzKL33/v993DlMY33/oSmmJ+ywkqp3CNm49G7ivMgeSMHDfeeedv/71r2q1mrnllvk6A/vm3C+++KKlpWVWxhOytu/V9OwUp6WlpaUdursj8hsvXZWId67uC5LOsgc7ytTrmKW/3B5hDzdQJbK1mp4eco9OOGWt3e51mS98I8w1ky1fEX3VEtqdnllrt5cRBQ/6r/+oayRXtSFelgm1bvcA7u6M1t1bKKpL7bK1GiJhxxkj2cyGt+9pCmkzQ9+e/J2me0e3MPWfpNgOVjhFfVl3NiThGO7evXv37t3rX97S0tLS0jLba5fts9v3uf/bHnDk1mtg1esfKuv4nPsOQu/63c9krWe7Z8m3yI/3aoJW4m6Pb94yHy471x0zbI/0zrCVe+pe28PzGMdmMivNXU1EQU8T3WOsXPhG1EOsO2Dl4Y7W3313WZARoxBlbtv1WmhNmdXNDGN7eOvne+3DZDi2kzo+j7O8TcYeLsSW4eA6tWYvV/rL9oVy51sMG5KWlrbuLN9HUdzWzWO8e0dIZzCxNJubORfbE6gx6852PB9n33qgJAjcCxculJSURD+XQklJyYULF2LbtkTHDKatO+u6Rc2fbN/nHWd9I9c5HOI7wsdTHDrma5yzk4izWbfrminr5hUi98B+WOnkHPWJ+DNuNjczku0JGfcudB2iYt8rF4ZjO1f3xduXzIiIaIHD4RBmTefPn1++fHk0NVy7di1WjQEAEF7C93ABABJFqIE7NTX17rvv+hS+8847U1NTsW4SAEByCilwp6ammpqa3n333ZERz407IyMjx48fb2pqQuYCAIQieOAyaTs6Orpr166VKz334q1cuXLXrl2jo6PIXACAUAQJXHbarlmzxufRNWvWIHMBAEIUKHADpy0DmQsAECLcpQAAIJBAgbtw4cKGhoacnJyjR49+/PHHnMt8/PHHR48ezcnJaWhoWLhw4ew0EgAgGQTp4QbOXKQtAEDogg8psDPX57YwpC0AQOhC/Wrv1NTUBx98wPxcjds777yzefPmENMWX+0FgHkukeZSAABIaLhLAQBAIAhcAACBIHABAASCwAUAEAgCFwBAIAhcAACBIHABAASCwAUAEAgCFwBAIAhcAACBIHABAATyrbluQBgweQ0AJDT0cAEABILABQAQCAIXAEAgCFwAAIEgcAEABILABQAQCAIXAEAgCFwAAIEgcAEABILABQAQCAIXAEAgCFwAAIEgcAEABJLYgWs2mzdu3Jifn5+fn3/u3LkoK9m4caPZbI5tCzmMd+9IO2iY9dUAQNxJ7MAlomXLlg0MDBiNxlWrVjEl586dy3c5dOiQe0m73V5fX+9fLpVKP/zww4GBgWXLloW58pHDrbszjvZ9Hc5zDMd2UseDsjDXBABJIOED19+qVauMRqPRaPzkk0/Gx8d1Oh1T/vLLL2dlZRmNxoGBgbNnz7rLI2TsyGg9m3uvJMynGU6rNXu3Z0W1agBITEkYuG5paWlZWc5oM5vNZ8+e/dGPfkRES5Ys2bFjx5kzZ+x2e6R1jxw+k2uq21kS5tPGuw+pNWtD6N4aDqa5YPgBIFkkc+BeunTp/PnzBQUFRDQ5OZmbm/t3f/d3RHTu3Dm1Wm21WqP4CYmVe3atuzPsZ4U6nGA4eHqtndGnUa9D5AIkh+QMXJ1Ol5+fX1JSsnz5cqlU6i5nro8dPHiwt7d3yZIlk5OTgjbLcFpdtn1tCMMJsn37XKksW6uhs9bxWW0XAAgjOQNXqVQyw7j33HNPfX09M3Tw3nvvaTSa7u7uN9980+FwEFFGRoaAjRrvPhTy8C1rRGGderYbBgACSc7AdSsoKLhy5cq1a9cyMjLuvffeX/7yl0uWLCGiycnJxYsX33HHHcI1Zfx0d09Iw7c03r1jnVrT5x5TmPWmAYAwgvxq78TExDfffMMuycnJWbhw4Ww2KZbeeeed5cuXL1my5I477sjNzT1y5EhjYyMRvfXWW8XFxWlpaYK1xHBsJ3V8HvLdYGV338087eA6NZV1zFqzAEBAgQJ3YmJCpVL5FObk5DQ0NMRz5up0OrXaeR6+e/fuvXv3ElFaWlpjY+Ozzz77D//wD0Sk0WiUSmUUK5l4+2jDQ1eYvy15rb+nxf9iCnQZzXBaXbb989DuBsvavlezc504bScRlXV0aKg7ioYCQPxYwIxmcnrnnXeOHz/uX7506dLMzEyfwtzc3IqKigBrOn/+/PLlyyNrJcP/pgKz2dzS0vKrX/2KGSiIxqVLl37+85/X19ezL7LFynj3DvGXe+378HUHgHktyJAChTaGMDU1dfLkyRUrVhQVFcWoYUkla/tbEd/xCwBJI3jgVlRUrFy5MvAyIyMjzc3NVqtV+MC9cOFCSUkJEb3++uvub/eGxWw2P/LII3/961+Zu3QBAGZJ8MCNZ8w0CPFQCQBAUEl+WxgAQPxA4AIACASBCwAgEAQuAIBAELgAAAIJfpfC6OjoggULgi4To/YAACStQIG7Zs2a48ePd3V1hVjXmjVrYtEkAIDkFOirvUQ0MTExMTERSkWZmZn+3/dlm42v9gIAJJAgQwpBYxQAAEKEi2YAAAJB4AIACCSR5lIQ9AcaAABiDT1cAACBIHABAASCwAUAEAgCFwBAIAhcAACBIHABAASCwAUAEAgCFwBAIAhcAACBIHABAASCwE04Nm21RDPEKhjSSJyqtbagxQDg4XmbeL2pZgsCN8EMaWQqqX2I+RwAABi5SURBVE5d6F0qbzZYLBZLe7koeLFNWy3U0ZUomF0S2ruOtaxg79I5EelOYX288xR7Ms6r6vAq4auFu5ivEqJCtcVisRia5WHunkg5hPLZZ58Jtq6kNdgoFjcO+hdWdV/kWtav+GJ3lbiqu5urlvmLtVMHG8Wc+5LlYndVkCWSQng7hfuJwYuZ45Hz2A29Er5aeIo5K7nYXSXMWwI93MiwPjE9H5jOk33XZ6zrAZ5izkps2mrfT3f28q1tNX6923AaXW+qs7SXSyOtIBnZtK1t8uZaZqcW1jbL9b39834EJoqdkp3H2VfkLhZJuY/FsCrhq4WnmKcSgSBwI2HTHqEWi4U5FyFVPescpU0pac0zWCwWXY1edWQoQDFnJaJSBevgtvX36uWKUpHnvxpFxHFLJCpvjzytk9WYybOLhzQylZ70prE5btOci3yn8BykPMVDvW2e4zvSSvhq4S6O+l0UHQRuJETlatewqKhUIfc6GGt0zJBpoaKGzGYbfzF3JaLyuhpX4tr6e/U1de4B2DGTXp6XPdvbNj8xJxtK0ll0Xi8bJ71KlvQjuERh7hTnCZxMRa6ecYBi17mdso11fIdbCV8tPMU8lQhNgGELRlKN4V7srhKzOEd/eAaC+MaHuCvxDL76jBbyjXeFM4brfgRjuC6DjV57P5zBvIvdVUm6I6PYKYk5iIsx3Hg2pJGpiLkBIPLrm/yVFCpq9L39Nlt/L7HPiPjGuyAq2XlykjcbXGMt4ZxGiEoVczkcOIui2Cm+p3aBi/1OECOphK8WnmKeSoSBwI2QVCoiIrJp61X6WFdSWNtMqvr6XqnX6RZl53EemzHCnIglzy27zBlk8HN+UalCrncNw9u0rd7jfoFqsWnrVXM5HBiBUF/kgDslcCV+uzBg8dARzl0YXiV8tXAX81Xi34bZeEMk0m+axY3C2ma5TClpIyKqaW6W600xrkRUqpCrVNK6dq9niEoVclWrttb3btvQDWkkyjbn30pJG1GNzpKsl9EKFTXU1mY226gw8O4SlbcbqFomk6iISN5sCLx7bdpqmevTUd5ssET8WswJUalCTnq9aYwoljvF68BiLc1dzN6F7CMwrEr4auEp5qkk4C4IdV+FR4BhC0ZSjeHONr4hpWjvw51PkneENRrh3VQ7b3C+4WZjX2FIIQ7ZtPU8l1IL1bqaNmVyXxuPAZu2WiKRqaTJ23+PxJBGIpEozaH17+a5WdtXCxwOR0wr5HX+/Pnly5cLs66E5TohCnSqb9NWy0x1rMc9p0teJ0s8xQDg4XmbCDK+hsAFABAIhhQAAASCwAUAEAgCFwBAIAjcpIUJyAGC4pmAnKfYpq2O7t2EwE1mHBOQhxXDPHNQs+d4Too4D2eu7fAWTmBhbyfPzPaeenh+kMQ30biW5ikONS69j1ivxXkmIOcpFpXXSVWyaF73mN7VGwi++CAwji8+sGbzCOFrAazJc7xvAR9sTKovFIQ11zbvTkkyYU5AzjezPfdz+Q4+njXxFPPUEvTI5prTJpx5p6Ka6AaBm7T8A9f7e2phzRnmtXBSBa732493SjYuyTvrWpg75WJ3VeOgw3+H8Pw6Bs/xw7M0309s8NQS9OAMJ0R5iqP4EieGFOYPm9lMrrk8bNpqZRvN3aRJ8QMTkHMIc6fwzGxv6+/VS6nfdzBgqLdNnmf2GwvgWZqnmK8WnmKPoSPRT4jrnM8vkqcicOedIY1EIpH1KgyG5lBnHxvSKD2/uEJERG3K5BnBJQpzrm2G/05JNhHsFC9jJj219Tp/1sTQTMzgp81sJr3KpGAmJtXVtCmZY4h7ab5inlr4KvdsUqvPnOcRiXziPgTu/OL+qZ/2clGIs5zatNXKNtcPVhCR64ICc0hLVbKEz1y9SiYz1VksFou60GY2u2bNDMR/pySbCHYKB3lzi3MXicrrPKnt+WW+wlrWxz7P0jzFfLXwFBPxzuMYNpFUGuHZIQJ3/hBJpZ6f+mE6A0HfRTZttUxFnqmofRUqamLcSqFFMNd2sJ2S+KKZgNyrFq5pwXnCiqfXyFPMU0vAJPT6acyoRP4JhItmSYtjZH+wUex17dnnAofY52Lwxe6qINen4/hCPfMrMSFc02Jvpd/lIf9agu+UOMbxIgdYkGen8FfCdUy5lmP9zV6M9TfP0jzFfLXwFHO0znd7w/h1rMivmiFwkxb3QeH8tSr/LPJ/G3kWdWK9X3gqiSeDjaFli4P963KcH1HsreTbKQmC2dKQXjXencIRuH57hX1HC0ctrJ/z82oL99J8xTy1cBcH7hsIdpcCAjdpYQJyTEDuL47PSeaSYPfhYgwXkg8mIOeCCchjYUgjU0l1ER9XmA83aWECcoCgeCYg5ym2aavrqSWKdxMCFwBAIBhSAAAQCAIXAEAgCFwAAIEgcAEABILABQAQCAIXAEAgCFwAAIEgcAEABILABQAQCAIXAEAgCFwAAIEgcAEABILABQAQyLfmugExINiEZwAA0Ui8wEW8AkCCSpjA5cxZhC8AJJAECFx2qvokLAIXABJIAgQuw52tAfIXACCeJUDg+kQtkhcAElQCBC55Ry3za8PscgCAhJAAgcvO2Vu3bhErczGkCwAJJAECl4iYqHU4HDdu3PCPXfcyc9dAAIDgEiBwmYS9ceOGzWabkwbceeedc7JeAEgyCRC4N2/evHnz5vXr1+e6IQAAUUmAuRQcDsf169enp6fnuiEAAFFJgMC9efPmjRs3ELgAkOgSIHBv3bp1/fr1a9euzXVDAACikgCBe/PmTSZz57ohAABRSYDAdTgczHWzuW4IAEBUEiNwb926hcAFgESXAIELAJAcEiBwHS5z3RAAgKgkwBcfGBEE7sDAwMjIiNVqHR0dJaKcnJzc3NyioqLCwsJZaCAAQBCJEbjhpu3g4GBXV9c333zDLhwdHR0dHR0YGFi6dGlFRUVRUVFM2wgAEERiDCmEtXxXV9eLL77ok7Zs33zzzYsvvtjV1RV10wAAwpAAgRuWrq6ukydPhrLkyZMnkbkAIKSkCtzBwcEQ05Zx8uTJwcHBWWjIePeOg4aQiwFgnkiqwOXssWZnZ4f7lCiMd+/Y0T2elbva/XegYqKJt4/uzmjdndG6O0M7EqzykcOtroVbd2cc7fs6pk0HgNmWGBfNQjEwMMA5bvv00093dnb+13/9F+ezvvnmm8HBwdhdQMva/tbz3TvS1vUQqdWaPvu+rEDF57QND6XXT+5aSTRyuLXlwT82HftuZsD6S0/U7VwVo7YCgMCSp4drMpk4yxcuXPjQQw/t3r07LS2Nc4FIRxXGu3ekOXl6rGxld9/N9Tx3sa2v9SvJq6UriYhoZcW9kve/+BSdVoAkFu+BG/otClarNcCjJSUlDQ0NnMMLzF264RrvPkbP2+12u93+eQftfMIzdvAEPW/v02j67M/TEzsCFdus7y8uKREREZGxI++/LXQl4DYAQIKL98AN3djYWOAFcnNzn3766X/8x3/0KY8scLO279ue5fxz7fayni+/dBa/9db2rHHrWfffgYqJiGx9D7buzjhJJ+rqn6XR0SC/ItS/xTmG+4u35+b3hgAgcvE+hhvzb/QuWLAgNhWNd+8Q7+xx/6vZy3osa/tb+zie4l985fd5naUn6l47RkS2vlbKcXZ4ua3cU/faHuZPY0dG5y+o8pltgZYHgPiSPD3cwHcjEJHVam1qahoYGAj3iVwMB8U7qeNz15hCWfg1EIlyt5Lk1UrXRTCb9f3FubkhPjd/9bORrBIA5lK8B27oPdzcgGE1MDDQ1NTEOXoQ+IkBrM7NIiIa736C1dMNg+jvty22PNTD3N018faZ/q33/L3n94GNHQHuFTunbWl0j/8CQIKI9yGF0OXl5XHe+zU1NdXV1eXfsXWL6J4w2YMdZeJ1aWoiIk1HR1nPl+HXQZnbdjXR0Ya81t8T0dZ7g90TZuzIONnv/Psu5mYyAEgkCwSb9vD8+fPLly8P6ynMbz38z//8z5UrVy5durR06dLAy9fX1/vfipuTkxPgstjSpUtbWloCV3vnnXcGXgAAIBTxO6QQwSdBRUWFf2HgmxA4nwIAMBviNHCZtGV6uKE/q6ioaNOmTaEvv2nTJkzSCACCidPAdQu3n1tRURFi5m7atAndWwAQUjxeNHN3bynSgYUVK1b4T0DuhgnIAWBOxGPgukV8Qa+oqKioqGhwcHBwcNBqtTJfQsvOzmZ+YgdRCwBzIk4D1x210dxEgWwFgLgSd2O47KjFj/UCQDKJu8AFAEhWcR246N4CQDJB4AIACCQeAxejtwCQlOIxcAEAklJ8BS56tQCQxOIrcH0gfwEgmcTpFx843c39K7gAAIkhrnu4AADJBIELACAQBC4AgEAQuAAAAkHgAgAIBIELACAQBC4AgEAQuAAAAkHgAgAIBIELACAQBG7CsWmrJZohVsGQRuJUrbUFLQYAD8/bxOtNNVsQuAlmSCNTSXXqQu9SebPBYrFY2stFwYtt2mqhjq4EMqQJ75OJ2Ys+T+CvhHlbs3Z6gI9Dv1qYdfkv7anDv56Y5EioO8W7IZ6V8jWcVe7dOs69wruZPNWwl/eqnvPIL1RbLBaLoVke8l6JCgI3oQxplG01fnEbOpu2WlJPippYtinxDWkkkt68cN5yNm29SlrjtRsDVTKkUZprauReBaSzMO90Usk8GcBZi6i83eKkk7KXJqrRuR5hfazatNUSV/0WS4RHSzg7hQktJ0OznOR52fwNt2nrexUGprSmTelOUJu2Wmlmugg+e4VzM5muh281Nm21Z9N1NW1K90rj48hH4EaG9eHq+ch1nuy7PmFdD/AUc1Zi01b7foazl2+NMm7rTXWW9nJppBUkpSFNa57Boi4N/Rk2bb2KmmsVIVYypFG21dTV5rGKCtWuHBSVKuRkNttCbEp2XvAEHDqikuoizVl3m8PdKS62/l59TZ3PqZZXw0Xl7a7ULFTUkN40xqzyiMr9RFF5XQ219Qbom9u0rW3y5lpmIwtrm+X63n4bEY2Z9M60Z680fo58BG4kbNoj1OL6PCdVPetsqU0pac0zWCwWXY1edWQoQDFnJaJShevQIebglStKRZ7/ahRRvI9E5e3RvQ2TUqHadyQmMCZuW7yfw19JOCclQZsSyiEw1NsmzzNHOaIQ7k7xrP2Iilw5yBK84TazmVxL2LTVyjZyfw5xGTN53hlDGplK7wzuQkWN3tk5tmnrVc6Vxs+Rj8CNhKhc7TocRaUKueszmoiIanTMoVqoqGEfMf7F3JWIyutqXInr01nw+vCGOTJ0xD9u+QU7KWFCwb9D6LdWJkBlvmnWpvQ9z7KZzaRXmRQW/3P22WfTtrZ5bw1fw50PKj3dVNbysl6FwdDMel/5b6ZrfdUSiURJOovO9bYqVFssOlI6a4myox97CNyIsAYDZCo9+xHPx3ihmjWsxlXMU0mhwpm4tv5e9lFqM5tnb4MgNEMapTmcuK3nuMLJrk2momZDCKHgHiWtM8ncnVbW0KlOqpJ5wsgT8YW1zd79gVk1dETl24/lbDgRObuxrn4Iw30e2F4u8nQv+DZTr5LJTHXMMLXNbCapVERMYjtPJqUqWdzdoYPAjYDzfeK5RhDbSpyJa+vvJfdwAhGJpHM/AjXfDfW2kV4lYz4llc6/eU/abf29enfnTKZi/nYnwJBG4hs4IfA5cWIXM0RSacBz8dnjNazqx7vhNm21z2eNSCr1nAcy3QsmQX0rYWTnyUnueb4rnpk2MJ+IhWqfcb14gMCNkPNgsGnrvXu4saiksLaZVPX1vVLvU83svNnsrHDe55TA/G7EikUtXpfjdTXMfXe8HVTWRXrmM7VG57rK7kzbsM94bdrWNjn7Y9jVTKW7uFDBShmfPmdMXmSeStgXvQI33JW23p81hYoact9UwNFXJq/NFJUq5HrX1RPvveJ5kwz1tlHEo3Cz84ZA4EagsLZZ7uy4yEyKCHu4gSoRlSrker3U54ATlSrkba3RHADOATVlm2tULInvxmU6QyH09ZwjOzKV3tl5jeQ9Fl4lNm1rG7FGJn3uW/WthXVjqaxX4c4pVrGSdJ7xq0K1odms9DzACnVRqULOTqTY7RSO4Vi+hg8dUenJc6LgrrtQbdHVOPcJq908mykqbzc0E1OJp3JRebu7DolEaXalegRHfsj7KjwOoXz22WdBl7l169atW7du3rx548aN69evX7t27erVqzabzWKxfPLJJwI0Ml5c7K4SNw76lw82iv3LBxvFVd0XuZblKp43LnZXceys+W6wUTy/DwtunG+42dhX6OHGIed9nhxnm4Vq1r3cwMemrZZIZNHfjZpchjRenT4IYNb21QKHwxHTCnmdP39++fLlgZdhGuP+NGC6una7/cqVK5cuXSoqKhKkpXPIpq2WqfREgUb3bNpqmamO9fiQRqJsIyIiOfsA4SkGAA/P2ySCIfXwIXABAASCIQUAAIEgcAEABILABQAQCAI3aWECcoCgeCYO5im2aaujezchcJOZ/wTkSGEOvPNhh7E076zXXs/gnFbb95Xwfa/zTe/N3/BAjQlVeDvFa8V+y4cz/TrH0sEnYGfPqeuzr7jmZWc3kGcCcp5iUXmdz4zE4YrpXb2B4IsPAuP44sNgo+vubnwrwO1id5VrP4Vwp3vwpS92V7GLOZdiLeP9SgR9XVjPZH0Lhr1Or3v4Ob8pE4LwdopnZVWNjX7fIPAtZjfWv31+lbCPY5/9xl+Lg7Ocp4EO3m8acRbzfSspJOjhzic8817PbzzzYUe8tNckQzZtK8fd87xzbQedO9wzY6fXVDHsST25p+AOU3g7hWm7/zzrnMVecy4U1jbL2RON+1fiNYuNZ98GrMW1TK/Xt415Ghg2UXldTcRfsUfgAsTUUK9nIhVbf69eSv0+Iwq8c20HnTvcZ3pv1nRanpmNuKfgnm0886xzF7MmlPGa3IxraVGpQu6a05c9Rw9/LU4+c/NG++tUbO4ZVMOHwJ2XQp33en7hnIAl5KVdw4dK1tt8zKSntl7nD3v4/lCX31zbweYO94oQr6mMvOabi+0U3CHtFJ551jmLvWcz0zi/5sVfiai83WJQ9MokXpPX8NbibrfXZ1O0v07lI/KJ+xC481Do817PIxzzYYe3tHsyRkNeK+tSjdw9X7movM4zJSz3XNsB5w73mbJQVN7imi1LUk91zXJXHTGcgju0ncIzzzrf9OvMhCBMJ75XoathOuq8k7XbtNUSZqJxZhI050cWdy2eJ7EnbAw2EXzYIp90+FsxawMkBtdMrOjdsvjPhx3F0qJShVxlGiMSuXtC3vtaJJUSSb3n2laIiEgqpV6zjQq5XhpmzNbAXqWovN1S7vx7SKNi6nAu556CmyTKI0PlkYRNqDvF1t+rJ71e4ulk6iVt8ub3FZzFhvZyUaHaYlG7V8LMHM5diaFdekSlr9G1O3+ZzEDVslZtbXu5iOnJ+9TiMsQ8ifVjgDwtCX+vMDW6X7KwRXixLXy4S0FgXNMzDjaK+a5aX+yuEifTzH2DjWLebfV2sbuKd8P9awm0tOc5XFfkfW4wcC3DXpzv7yC3G/iu0fsuBVZjQ3+RA2xmwErCudzve0MH59JeW8B5E4dfLXzVBmlJyM2OZupT9HDnEc+8167PekEmSJobhYoaamsz83UYPZj5sEklk6iYgoB9H56lXdO8EZHXXhWVt+tMEufCnoqdXU/mdWAtXqg2NFfLJBLfapiBVIP3S+U1HZz7jIVZo/sl9t4YUalCTnqOTnd0OyU8rH1Vo7O0Bzn+mF3ibod7p/DWwlyfcHdvZ8NQb5tcYYhoBZgtLGkNaSStefN4XkabthpT4voZ0mBKXA5+c54GKOZZNjS4aAbJBxOQc8EE5LEwpJFFcwEOQwrJTM+cEs67CcjZV5PAhXWRCdxYE5DXBS92fpEl8o9xDCkAAAgkAYYUFixYMNdNAACIgQQIXELmAkBSSIzAJWQuACS+hAlcAIBElzCBix4uACS6BAjcBQsWIG0BIAkkQOASMhcAkkICBC6iFgCSQ2IE7m233Xb77bfPdUMAAKKSAIHLpO23voVvIQNAYkuAFFuwYMHtt9+ekpLyySefXLly5cqVK1NTU9evX2cmzyUih8OBYQcAiH8JELhM9zYlJeU73/mOw+G4/fbb77jjjhs3bty6dcs9EYRgM0IAAEQsAQL3tttuYwJ34cKFt912G/PHzZs3me4tAECiSKTAJaLbb789NTX1xo0bN2/eJFbHlhlSQD8XAOJZYgQuM4bLJO+tW7du3LhBrlkcmWUwhgsA8S8BApe5LYz57sPtt99+69YtprfLHlJA3xYA4l9iBC6TswsWLHA4HO6cZfdwAQDiX2IELhHddtttRHTr1i3mD/dvQ8xt2wAAQpcwgctg0tYNgQsACSQBApfBxC4zquBTCACQEBImcN0QsgCQoBJgLgUAgOTw/wFUEeLw+2xPzQAAAABJRU5ErkJggg==)"
      ],
      "metadata": {
        "id": "LiJkG-oy_q2O"
      }
    },
    {
      "cell_type": "markdown",
      "source": [
        "**Ejercicios**"
      ],
      "metadata": {
        "id": "cGaH4DBX_sZ2"
      }
    },
    {
      "cell_type": "markdown",
      "source": [
        "a) Crear un vector con valores dentro del rango 10 a 49"
      ],
      "metadata": {
        "id": "RPcAN2Gp_6EC"
      }
    },
    {
      "cell_type": "code",
      "source": [
        "a = np.arange(10,50)\n",
        "a"
      ],
      "metadata": {
        "id": "6svWt8rU_709",
        "colab": {
          "base_uri": "https://localhost:8080/"
        },
        "outputId": "03ac3733-6632-4916-8648-7b2ef22d6c63"
      },
      "execution_count": null,
      "outputs": [
        {
          "output_type": "execute_result",
          "data": {
            "text/plain": [
              "array([10, 11, 12, 13, 14, 15, 16, 17, 18, 19, 20, 21, 22, 23, 24, 25, 26,\n",
              "       27, 28, 29, 30, 31, 32, 33, 34, 35, 36, 37, 38, 39, 40, 41, 42, 43,\n",
              "       44, 45, 46, 47, 48, 49])"
            ]
          },
          "metadata": {},
          "execution_count": 6
        }
      ]
    },
    {
      "cell_type": "markdown",
      "source": [
        "b) Invertir el valor"
      ],
      "metadata": {
        "id": "UkFR02Kp_9hi"
      }
    },
    {
      "cell_type": "code",
      "source": [
        "a[::-1]"
      ],
      "metadata": {
        "id": "-caTGRRtAF2E",
        "colab": {
          "base_uri": "https://localhost:8080/"
        },
        "outputId": "8dc2f2f2-efce-4308-dc6b-32e7ba346933"
      },
      "execution_count": null,
      "outputs": [
        {
          "output_type": "execute_result",
          "data": {
            "text/plain": [
              "array([49, 48, 47, 46, 45, 44, 43, 42, 41, 40, 39, 38, 37, 36, 35, 34, 33,\n",
              "       32, 31, 30, 29, 28, 27, 26, 25, 24, 23, 22, 21, 20, 19, 18, 17, 16,\n",
              "       15, 14, 13, 12, 11, 10])"
            ]
          },
          "metadata": {},
          "execution_count": 7
        }
      ]
    },
    {
      "cell_type": "markdown",
      "source": [
        "c) Crear una matriz de 3x3 con valores de 0 a 8"
      ],
      "metadata": {
        "id": "uuXheB3sAHoI"
      }
    },
    {
      "cell_type": "code",
      "source": [
        "np.arange(0,9).reshape(3,3)"
      ],
      "metadata": {
        "id": "bNRxcPHnAJ0n",
        "colab": {
          "base_uri": "https://localhost:8080/"
        },
        "outputId": "49fb9be4-a5df-4aac-cddc-e817692e16e7"
      },
      "execution_count": null,
      "outputs": [
        {
          "output_type": "execute_result",
          "data": {
            "text/plain": [
              "array([[0, 1, 2],\n",
              "       [3, 4, 5],\n",
              "       [6, 7, 8]])"
            ]
          },
          "metadata": {},
          "execution_count": 8
        }
      ]
    },
    {
      "cell_type": "markdown",
      "source": [
        "d) Encontrar los índices de los elementos que no son ceros en el siguiente [1,2,4,2,4,0,1,0,0,0,12,4,5,6,7,0] arreglo:"
      ],
      "metadata": {
        "id": "Fny8lxWhALSX"
      }
    },
    {
      "cell_type": "code",
      "source": [
        "a = np.array([1,2,4,2,4,0,1,0,0,0,12,4,5,6,7,0])\n",
        "np.argwhere( a!=0 )"
      ],
      "metadata": {
        "id": "gzVjoPQEANVg",
        "colab": {
          "base_uri": "https://localhost:8080/"
        },
        "outputId": "bebdfc9f-5d37-49e2-fa6c-41c3dff5aa4f"
      },
      "execution_count": null,
      "outputs": [
        {
          "output_type": "execute_result",
          "data": {
            "text/plain": [
              "array([[ 0],\n",
              "       [ 1],\n",
              "       [ 2],\n",
              "       [ 3],\n",
              "       [ 4],\n",
              "       [ 6],\n",
              "       [10],\n",
              "       [11],\n",
              "       [12],\n",
              "       [13],\n",
              "       [14]])"
            ]
          },
          "metadata": {},
          "execution_count": 9
        }
      ]
    },
    {
      "cell_type": "markdown",
      "source": [
        "e) Crear una matriz identidad 6x6"
      ],
      "metadata": {
        "id": "D4PT20YRAPdA"
      }
    },
    {
      "cell_type": "code",
      "source": [
        "np.identity(6)"
      ],
      "metadata": {
        "id": "IKM_4in5AR6h",
        "colab": {
          "base_uri": "https://localhost:8080/"
        },
        "outputId": "eb67cb9a-08d7-4ec7-a3cb-1653e0473b8e"
      },
      "execution_count": null,
      "outputs": [
        {
          "output_type": "execute_result",
          "data": {
            "text/plain": [
              "array([[1., 0., 0., 0., 0., 0.],\n",
              "       [0., 1., 0., 0., 0., 0.],\n",
              "       [0., 0., 1., 0., 0., 0.],\n",
              "       [0., 0., 0., 1., 0., 0.],\n",
              "       [0., 0., 0., 0., 1., 0.],\n",
              "       [0., 0., 0., 0., 0., 1.]])"
            ]
          },
          "metadata": {},
          "execution_count": 10
        }
      ]
    },
    {
      "cell_type": "markdown",
      "source": [
        "f) Crear una matriz con valores al azar con forma de 3x3x3"
      ],
      "metadata": {
        "id": "Y8rUL0-hATMr"
      }
    },
    {
      "cell_type": "code",
      "source": [
        "r = np.random.random((3,3,3))\n",
        "r"
      ],
      "metadata": {
        "id": "bfieyDZ8AVmS",
        "colab": {
          "base_uri": "https://localhost:8080/"
        },
        "outputId": "c921a27a-8b69-4489-e95f-dd47c20af3ca"
      },
      "execution_count": null,
      "outputs": [
        {
          "output_type": "execute_result",
          "data": {
            "text/plain": [
              "array([[[0.84714321, 0.09079167, 0.46873091],\n",
              "        [0.47293015, 0.36513789, 0.64134166],\n",
              "        [0.66272938, 0.33514423, 0.13007274]],\n",
              "\n",
              "       [[0.16019563, 0.96075681, 0.40971268],\n",
              "        [0.54143203, 0.18849693, 0.19339402],\n",
              "        [0.8799209 , 0.65897283, 0.06148577]],\n",
              "\n",
              "       [[0.36846564, 0.51070524, 0.65755944],\n",
              "        [0.39894538, 0.17207026, 0.25420159],\n",
              "        [0.05533481, 0.69437423, 0.21353504]]])"
            ]
          },
          "metadata": {},
          "execution_count": 11
        }
      ]
    },
    {
      "cell_type": "markdown",
      "source": [
        "g) Encontrar los índices de los valores mínimos y máximos de lo anterior de la matriz"
      ],
      "metadata": {
        "id": "QgFOCm3FAXoB"
      }
    },
    {
      "cell_type": "code",
      "source": [
        "print( r.argmax() )\n",
        "print( r.ravel()[r.argmax()] )\n",
        "\n",
        "print(r)\n",
        "print(np.unravel_index(r.argmax(), r.shape))\n",
        "r[np.unravel_index(r.argmax(), r.shape)]"
      ],
      "metadata": {
        "id": "2OtyW_AhAbHA",
        "colab": {
          "base_uri": "https://localhost:8080/"
        },
        "outputId": "81b1ca3e-aedc-4e25-8a72-65289b6033cc"
      },
      "execution_count": null,
      "outputs": [
        {
          "output_type": "stream",
          "name": "stdout",
          "text": [
            "10\n",
            "0.9607568116469698\n",
            "[[[0.84714321 0.09079167 0.46873091]\n",
            "  [0.47293015 0.36513789 0.64134166]\n",
            "  [0.66272938 0.33514423 0.13007274]]\n",
            "\n",
            " [[0.16019563 0.96075681 0.40971268]\n",
            "  [0.54143203 0.18849693 0.19339402]\n",
            "  [0.8799209  0.65897283 0.06148577]]\n",
            "\n",
            " [[0.36846564 0.51070524 0.65755944]\n",
            "  [0.39894538 0.17207026 0.25420159]\n",
            "  [0.05533481 0.69437423 0.21353504]]]\n",
            "(1, 0, 1)\n"
          ]
        },
        {
          "output_type": "execute_result",
          "data": {
            "text/plain": [
              "0.9607568116469698"
            ]
          },
          "metadata": {},
          "execution_count": 12
        }
      ]
    },
    {
      "cell_type": "markdown",
      "source": [
        "h) Crear una matriz de 10x10 con 1's en los bordes y 0 en el interior (con rangos de índices)"
      ],
      "metadata": {
        "id": "bk23vXb-AdVC"
      }
    },
    {
      "cell_type": "code",
      "source": [
        "z = np.ones((10,10))\n",
        "\n",
        "z[1:-1,1:-1] = 0\n",
        "z"
      ],
      "metadata": {
        "id": "DobMVGvlAh4T",
        "colab": {
          "base_uri": "https://localhost:8080/"
        },
        "outputId": "d32b7e95-7c5a-441c-a80d-558687ae619f"
      },
      "execution_count": null,
      "outputs": [
        {
          "output_type": "execute_result",
          "data": {
            "text/plain": [
              "array([[1., 1., 1., 1., 1., 1., 1., 1., 1., 1.],\n",
              "       [1., 0., 0., 0., 0., 0., 0., 0., 0., 1.],\n",
              "       [1., 0., 0., 0., 0., 0., 0., 0., 0., 1.],\n",
              "       [1., 0., 0., 0., 0., 0., 0., 0., 0., 1.],\n",
              "       [1., 0., 0., 0., 0., 0., 0., 0., 0., 1.],\n",
              "       [1., 0., 0., 0., 0., 0., 0., 0., 0., 1.],\n",
              "       [1., 0., 0., 0., 0., 0., 0., 0., 0., 1.],\n",
              "       [1., 0., 0., 0., 0., 0., 0., 0., 0., 1.],\n",
              "       [1., 0., 0., 0., 0., 0., 0., 0., 0., 1.],\n",
              "       [1., 1., 1., 1., 1., 1., 1., 1., 1., 1.]])"
            ]
          },
          "metadata": {},
          "execution_count": 13
        }
      ]
    },
    {
      "cell_type": "markdown",
      "source": [
        "i) Crear una matriz de 5x5 con valores en los renglones que vayan de 0 a 4"
      ],
      "metadata": {
        "id": "yFS9UxYuAjOQ"
      }
    },
    {
      "cell_type": "code",
      "source": [
        "np.tile( np.arange(0,5) , 5).reshape(5,5)"
      ],
      "metadata": {
        "id": "WGJJJUaSAlbZ",
        "colab": {
          "base_uri": "https://localhost:8080/"
        },
        "outputId": "5c69fa39-fbdb-4589-8c4e-de2dca880023"
      },
      "execution_count": null,
      "outputs": [
        {
          "output_type": "execute_result",
          "data": {
            "text/plain": [
              "array([[0, 1, 2, 3, 4],\n",
              "       [0, 1, 2, 3, 4],\n",
              "       [0, 1, 2, 3, 4],\n",
              "       [0, 1, 2, 3, 4],\n",
              "       [0, 1, 2, 3, 4]])"
            ]
          },
          "metadata": {},
          "execution_count": 14
        }
      ]
    },
    {
      "cell_type": "markdown",
      "source": [
        "j) Crear dos arreglos al azar A y B, verificar si son iguales"
      ],
      "metadata": {
        "id": "NHJgGG-yAm_f"
      }
    },
    {
      "cell_type": "code",
      "source": [
        "a = np.random.random((3,3))\n",
        "b = np.random.random((3,3))\n",
        "\n",
        "a == b"
      ],
      "metadata": {
        "id": "kNlz1iD5ApO1",
        "colab": {
          "base_uri": "https://localhost:8080/"
        },
        "outputId": "5bf28f73-d7c8-48c6-81f5-84d9774b2b9e"
      },
      "execution_count": null,
      "outputs": [
        {
          "output_type": "execute_result",
          "data": {
            "text/plain": [
              "array([[False, False, False],\n",
              "       [False, False, False],\n",
              "       [False, False, False]])"
            ]
          },
          "metadata": {},
          "execution_count": 15
        }
      ]
    },
    {
      "cell_type": "markdown",
      "source": [
        "**TAREA**"
      ],
      "metadata": {
        "id": "RHeBxuKZAqv9"
      }
    },
    {
      "cell_type": "markdown",
      "source": [
        "a) Crear un vector con elementos del 1 al 12 y luego con eso elementos calcule la sumatoria de esos números."
      ],
      "metadata": {
        "id": "OimNk8s3As6x"
      }
    },
    {
      "cell_type": "code",
      "source": [
        "import numpy as np\n",
        "vector = np.arange(1, 13)\n",
        "suma = np.sum(vector)\n",
        "\n",
        "print(\"Vector:\", vector)\n",
        "print(\"Suma de los elementos:\", suma)"
      ],
      "metadata": {
        "id": "TSq6mEEwY2Uf",
        "outputId": "9990f77e-c995-4f9b-99d7-71407ab7f0cb",
        "colab": {
          "base_uri": "https://localhost:8080/"
        }
      },
      "execution_count": null,
      "outputs": [
        {
          "output_type": "stream",
          "name": "stdout",
          "text": [
            "Vector: [ 1  2  3  4  5  6  7  8  9 10 11 12]\n",
            "Suma de los elementos: 78\n"
          ]
        }
      ]
    },
    {
      "cell_type": "markdown",
      "source": [
        "b) Realizar la siguiente operación:\n",
        "\n",
        "![image.png](data:image/png;base64,iVBORw0KGgoAAAANSUhEUgAAADgAAAA5CAYAAABj2ui7AAAFZElEQVRoge2ae0xTZxjGn9MWWnQLQ5EhTBA16mSw6XCTab2hYeIVE9HNS5xzXpBNQdxki44YWaZM5mLUmOlMJNMYNQY0piDLEITJojO6yC7e622xyGWCtbfz7A9AUIqe2a8jdX2S75/T9v1+z/m+c97zvj0SSTzLUnU0gLv1PzDIKn6XoKMkSa2GmiGLi2gFxO1fh4knti1g7OupPGYTEFchtwYAJN0oZB5ZjqE+zYclaF8aCB9ngf89CWtP7UTWxqMwXivHqarJQqICyrg1AAB1MKJHj8EYLSRhs7eSb0Qi1ubOxa1vRiI/R2BgBdwagdO1I0nq1CUAgNwht+tGg5YybJg1A3scDayttSIgeiKSP16IESE+bllRYVLCTRI2s5lWmSQJ3rvEffP6svPL6SxtaDomZDh4eaOeurAPWWwVE1cJtwoANDqd5CM17WO/CCkxbTb6XcxFbpm1Y1ZGoZRwO82Dqq7d0EWqw22T5b8hFSRn3CrUHeHGbyvpaJU75DsmVCMQoSG6DgFVJIXcKqjrUJFXgr/kpiOsYemOvTg/YB7mxorJhG6RQm4NtBF41Z6CCUMPIixYR0v1bVjDZuHg4eWIEZIXZRoLN2H70T9xvuQP2O5UYX1KGgrCY/lu2jS8onvKORRyS95qwsPlNejp8hr0dHkNerqcGmRNIZf09ef0AxbXk6SjkluTYhg1SM+xCW9z5OAYxn2wmRXV4hOwU+42ZYh8iwfm9qJW8mPS/vuulzXWYqZOzuKvzSVS/QmujPJl8Jw81lJgOdYO9yMr6ODVXSvwfc8ZiNMKOq2qMMQvnIL+zY+HnQchfsSLqC4vxW82QXM8hvshg7bft2CFQY91y6IgrI5QR0jx4wZIGjQ/HxJ2mw2SfwD8Bd0BHsfdMsX908zO+AWJX81HHzd2auw38rGrUIOEj2ain1pAwCdwNxm8y+NrMnHj/WzMCHXHjZWsPZTK4W9Es9fAdNycvhk5SeFQwdVq5cncKoCsNnyG9bZUfDE+EJLLkzqTJL0w8Wup5OezktFYjJTaTxGjX43yBlcawAq5ybvcnagjGivjNsN39GZed4hsPhGOixs4VBvA2XlmF+Iq49YAnTAupwKnV8strs0FSB+VCXXWMWRP6Y0gF3atbCzi0bvDER/p23KGJQmgHTa7K6lQIbfTs1O/h1N1YvKg7eQqTvqknJYHOa+ep9e+xedCZvKASRa6M5xxu72zrQqKRPfjSzBsZHeEBGhorTOh3n8YthWuxtRAye2NZW/LwtPlNejp8hr0dHkNerqeeYMaOCq59Z052HLBD8HBnWEzVUH92nv4Yl0y3uwi4EnDfoabpi/Ajqs6BAX5wVJVg05DkrEuaw6in3cxvhJ2t/dMLAVMTszhBXtjLLmumEv7+zJsgYF/uxpfATtov0TDkXO0PZjMyh9TetC3Tzp/EvFfuuMKS0ou0f4gvoVFi7rTp3cay1yNr4Bd09gzab3ugnsmqnBJr3/4kCzLgFYHrasXgAL2NhaE90welXwD5yrrEBo3FpGCaxmn7I1LK7Mmfxn1g6PYo1s441bm8bJZwPZ0MswVGYwOncpdRoeg+I9nb/sD82UeXBTJrjGrWFYv1qRsKuTS2GHMKL5DmWJjt8fu9ItieiaPmvuBGePG8/PiKveYa4ddJRuLWHDO+nDVK6Rn0urauH6IafN2IuzLvcgc0VUS1blTwq6STSXYknsKLe9YNvDs7v04EzgJ04a73t+Wr+3j/AlrUJ+QhJ43S2EwGGgwGGgoPMEr91x7b1QJu8bdPRPbmcPIP3sSNYsnYXvrD3yGILvyONL7PP2tWgm7tyfj6fIa9HT9A1Ss4PZ+HcozAAAAAElFTkSuQmCC)   \n",
        "      +      \n",
        "![image.png](data:image/png;base64,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)"
      ],
      "metadata": {
        "id": "pT3iobsNAzww"
      }
    },
    {
      "cell_type": "code",
      "source": [
        "import numpy as np\n",
        "\n",
        "# Definir las dos matrices\n",
        "matriz1 = np.array([\n",
        "    [5, 1, 5],\n",
        "    [4, 3, 4],\n",
        "    [3, 2, 3]\n",
        "])\n",
        "\n",
        "matriz2 = np.array([\n",
        "    [3, 1, 7],\n",
        "    [5, 2, 4],\n",
        "    [6, 1, 4]\n",
        "])\n",
        "\n",
        "suma = matriz1 + matriz2\n",
        "\n",
        "print(\"Matriz 1:\\n\", matriz1)\n",
        "print(\"Matriz 2:\\n\", matriz2)\n",
        "print(\"Suma de las matrices:\\n\", suma)"
      ],
      "metadata": {
        "id": "1OSZLPFDbMbH",
        "outputId": "68d9902e-dc8e-44ca-ac85-9c01fd9aab19",
        "colab": {
          "base_uri": "https://localhost:8080/"
        }
      },
      "execution_count": null,
      "outputs": [
        {
          "output_type": "stream",
          "name": "stdout",
          "text": [
            "Matriz 1:\n",
            " [[5 1 5]\n",
            " [4 3 4]\n",
            " [3 2 3]]\n",
            "Matriz 2:\n",
            " [[3 1 7]\n",
            " [5 2 4]\n",
            " [6 1 4]]\n",
            "Suma de las matrices:\n",
            " [[ 8  2 12]\n",
            " [ 9  5  8]\n",
            " [ 9  3  7]]\n"
          ]
        }
      ]
    },
    {
      "cell_type": "markdown",
      "source": [
        "c) Calcule la Matriz transpuesta de:\n",
        "\n",
        "![image.png](data:image/png;base64,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)\n",
        "\n",
        "Luego multiplique dicha matriz por el escalar: 5"
      ],
      "metadata": {
        "id": "pz-9Ay6CBE2P"
      }
    },
    {
      "cell_type": "code",
      "source": [
        "import numpy as np\n",
        "\n",
        "matriz = np.array([\n",
        "    [6, 9, 1],\n",
        "    [7, 2, 4],\n",
        "    [3, 2, 6]\n",
        "])\n",
        "\n",
        "matriz_transpuesta = matriz.T\n",
        "\n",
        "resultado = matriz_transpuesta * 5\n",
        "\n",
        "print(\"Matriz original:\\n\", matriz)\n",
        "print(\"Matriz transpuesta:\\n\", matriz_transpuesta)\n",
        "print(\"Matriz transpuesta multiplicada por 5:\\n\", resultado)"
      ],
      "metadata": {
        "id": "obhTAfoIdfuF",
        "outputId": "ad87abeb-afa7-4b41-a91f-c7447b075411",
        "colab": {
          "base_uri": "https://localhost:8080/"
        }
      },
      "execution_count": null,
      "outputs": [
        {
          "output_type": "stream",
          "name": "stdout",
          "text": [
            "Matriz original:\n",
            " [[6 9 1]\n",
            " [7 2 4]\n",
            " [3 2 6]]\n",
            "Matriz transpuesta:\n",
            " [[6 7 3]\n",
            " [9 2 2]\n",
            " [1 4 6]]\n",
            "Matriz transpuesta multiplicada por 5:\n",
            " [[30 35 15]\n",
            " [45 10 10]\n",
            " [ 5 20 30]]\n"
          ]
        }
      ]
    },
    {
      "cell_type": "markdown",
      "source": [
        "d) Teniendo los siguientes datos (Abrir DataSet \"setosa\"), cargarlos en una matriz y :\n",
        "\n",
        "\n",
        "*   Obtener un vector de datos con el ancho del pétalo de “setosa”\n",
        "*   De ese vector de datos obtener el mínimo, máximo y la suma de datos\n",
        "*   De ese vector de datos obtener los 10 primeros elementos y multiplíquelo por el escarlar:5\n"
      ],
      "metadata": {
        "id": "kfDz7gZqBRzW"
      }
    },
    {
      "cell_type": "code",
      "source": [
        "from pandas import Series, DataFrame\n",
        "import pandas as pd\n",
        "data = pd.read_csv('https://docs.google.com/spreadsheets/d/e/2PACX-1vSkcRJ_3MlxwU3ZsfbTgJkZtzb0C_rKvvHCd7GCyqZDeyRfLApJWRiQc1TRO6J5KEonHzOdYaDHFDBL/pub?gid=0&single=true&output=csv')\n",
        "data"
      ],
      "metadata": {
        "id": "YtUtwLjZBaym",
        "colab": {
          "base_uri": "https://localhost:8080/",
          "height": 1000
        },
        "outputId": "5a5ef588-1e8f-40f7-b544-04731c2c7589"
      },
      "execution_count": null,
      "outputs": [
        {
          "output_type": "execute_result",
          "data": {
            "text/plain": [
              "    Unnamed: 0   Unnamed: 1  Unnamed: 2   Unnamed: 3 Unnamed: 4\n",
              "0   AltoSepalo  AnchoSepalo  AltoPetalo  AnchoPetalo    Especie\n",
              "1          5.1          3.5         1.4          0.2     setosa\n",
              "2          4.9            3         1.4          0.2     setosa\n",
              "3          4.7          3.2         1.3          0.2     setosa\n",
              "4          4.6          3.1         1.5          0.2     setosa\n",
              "5            5          3.6         1.4          0.2     setosa\n",
              "6          5.4          3.9         1.7          0.4     setosa\n",
              "7          4.6          3.4         1.4          0.3     setosa\n",
              "8            5          3.4         1.5          0.2     setosa\n",
              "9          4.4          2.9         1.4          0.2     setosa\n",
              "10         4.9          3.1         1.5          0.1     setosa\n",
              "11         5.4          3.7         1.5          0.2     setosa\n",
              "12         4.8          3.4         1.6          0.2     setosa\n",
              "13         4.8            3         1.4          0.1     setosa\n",
              "14         4.3            3         1.1          0.1     setosa\n",
              "15         5.8            4         1.2          0.2     setosa\n",
              "16         5.7          4.4         1.5          0.4     setosa\n",
              "17         5.4          3.9         1.3          0.4     setosa\n",
              "18         5.1          3.5         1.4          0.3     setosa\n",
              "19         5.7          3.8         1.7          0.3     setosa\n",
              "20         5.1          3.8         1.5          0.3     setosa\n",
              "21         5.4          3.4         1.7          0.2     setosa\n",
              "22         5.1          3.7         1.5          0.4     setosa\n",
              "23         4.6          3.6           1          0.2     setosa\n",
              "24         5.1          3.3         1.7          0.5     setosa\n",
              "25         4.8          3.4         1.9          0.2     setosa\n",
              "26           5            3         1.6          0.2     setosa\n",
              "27           5          3.4         1.6          0.4     setosa\n",
              "28         5.2          3.5         1.5          0.2     setosa\n",
              "29         5.2          3.4         1.4          0.2     setosa\n",
              "30         4.7          3.2         1.6          0.2     setosa\n",
              "31         4.8          3.1         1.6          0.2     setosa\n",
              "32         5.4          3.4         1.5          0.4     setosa\n",
              "33         5.2          4.1         1.5          0.1     setosa\n",
              "34         5.5          4.2         1.4          0.2     setosa\n",
              "35         4.9          3.1         1.5          0.1     setosa\n",
              "36           5          3.2         1.2          0.2     setosa\n",
              "37         5.5          3.5         1.3          0.2     setosa\n",
              "38         4.9          3.1         1.5          0.1     setosa\n",
              "39         4.4            3         1.3          0.2     setosa\n",
              "40         5.1          3.4         1.5          0.2     setosa\n",
              "41           5          3.5         1.3          0.3     setosa\n",
              "42         4.5          2.3         1.3          0.3     setosa\n",
              "43         4.4          3.2         1.3          0.2     setosa\n",
              "44           5          3.5         1.6          0.6     setosa\n",
              "45         5.1          3.8         1.9          0.4     setosa\n",
              "46         4.8            3         1.4          0.3     setosa\n",
              "47         5.1          3.8         1.6          0.2     setosa\n",
              "48         4.6          3.2         1.4          0.2     setosa\n",
              "49         5.3          3.7         1.5          0.2     setosa\n",
              "50           5          3.3         1.4          0.2     setosa"
            ],
            "text/html": [
              "\n",
              "  <div id=\"df-5a49d7e3-386c-4005-a9dd-56caec64bf3f\" class=\"colab-df-container\">\n",
              "    <div>\n",
              "<style scoped>\n",
              "    .dataframe tbody tr th:only-of-type {\n",
              "        vertical-align: middle;\n",
              "    }\n",
              "\n",
              "    .dataframe tbody tr th {\n",
              "        vertical-align: top;\n",
              "    }\n",
              "\n",
              "    .dataframe thead th {\n",
              "        text-align: right;\n",
              "    }\n",
              "</style>\n",
              "<table border=\"1\" class=\"dataframe\">\n",
              "  <thead>\n",
              "    <tr style=\"text-align: right;\">\n",
              "      <th></th>\n",
              "      <th>Unnamed: 0</th>\n",
              "      <th>Unnamed: 1</th>\n",
              "      <th>Unnamed: 2</th>\n",
              "      <th>Unnamed: 3</th>\n",
              "      <th>Unnamed: 4</th>\n",
              "    </tr>\n",
              "  </thead>\n",
              "  <tbody>\n",
              "    <tr>\n",
              "      <th>0</th>\n",
              "      <td>AltoSepalo</td>\n",
              "      <td>AnchoSepalo</td>\n",
              "      <td>AltoPetalo</td>\n",
              "      <td>AnchoPetalo</td>\n",
              "      <td>Especie</td>\n",
              "    </tr>\n",
              "    <tr>\n",
              "      <th>1</th>\n",
              "      <td>5.1</td>\n",
              "      <td>3.5</td>\n",
              "      <td>1.4</td>\n",
              "      <td>0.2</td>\n",
              "      <td>setosa</td>\n",
              "    </tr>\n",
              "    <tr>\n",
              "      <th>2</th>\n",
              "      <td>4.9</td>\n",
              "      <td>3</td>\n",
              "      <td>1.4</td>\n",
              "      <td>0.2</td>\n",
              "      <td>setosa</td>\n",
              "    </tr>\n",
              "    <tr>\n",
              "      <th>3</th>\n",
              "      <td>4.7</td>\n",
              "      <td>3.2</td>\n",
              "      <td>1.3</td>\n",
              "      <td>0.2</td>\n",
              "      <td>setosa</td>\n",
              "    </tr>\n",
              "    <tr>\n",
              "      <th>4</th>\n",
              "      <td>4.6</td>\n",
              "      <td>3.1</td>\n",
              "      <td>1.5</td>\n",
              "      <td>0.2</td>\n",
              "      <td>setosa</td>\n",
              "    </tr>\n",
              "    <tr>\n",
              "      <th>5</th>\n",
              "      <td>5</td>\n",
              "      <td>3.6</td>\n",
              "      <td>1.4</td>\n",
              "      <td>0.2</td>\n",
              "      <td>setosa</td>\n",
              "    </tr>\n",
              "    <tr>\n",
              "      <th>6</th>\n",
              "      <td>5.4</td>\n",
              "      <td>3.9</td>\n",
              "      <td>1.7</td>\n",
              "      <td>0.4</td>\n",
              "      <td>setosa</td>\n",
              "    </tr>\n",
              "    <tr>\n",
              "      <th>7</th>\n",
              "      <td>4.6</td>\n",
              "      <td>3.4</td>\n",
              "      <td>1.4</td>\n",
              "      <td>0.3</td>\n",
              "      <td>setosa</td>\n",
              "    </tr>\n",
              "    <tr>\n",
              "      <th>8</th>\n",
              "      <td>5</td>\n",
              "      <td>3.4</td>\n",
              "      <td>1.5</td>\n",
              "      <td>0.2</td>\n",
              "      <td>setosa</td>\n",
              "    </tr>\n",
              "    <tr>\n",
              "      <th>9</th>\n",
              "      <td>4.4</td>\n",
              "      <td>2.9</td>\n",
              "      <td>1.4</td>\n",
              "      <td>0.2</td>\n",
              "      <td>setosa</td>\n",
              "    </tr>\n",
              "    <tr>\n",
              "      <th>10</th>\n",
              "      <td>4.9</td>\n",
              "      <td>3.1</td>\n",
              "      <td>1.5</td>\n",
              "      <td>0.1</td>\n",
              "      <td>setosa</td>\n",
              "    </tr>\n",
              "    <tr>\n",
              "      <th>11</th>\n",
              "      <td>5.4</td>\n",
              "      <td>3.7</td>\n",
              "      <td>1.5</td>\n",
              "      <td>0.2</td>\n",
              "      <td>setosa</td>\n",
              "    </tr>\n",
              "    <tr>\n",
              "      <th>12</th>\n",
              "      <td>4.8</td>\n",
              "      <td>3.4</td>\n",
              "      <td>1.6</td>\n",
              "      <td>0.2</td>\n",
              "      <td>setosa</td>\n",
              "    </tr>\n",
              "    <tr>\n",
              "      <th>13</th>\n",
              "      <td>4.8</td>\n",
              "      <td>3</td>\n",
              "      <td>1.4</td>\n",
              "      <td>0.1</td>\n",
              "      <td>setosa</td>\n",
              "    </tr>\n",
              "    <tr>\n",
              "      <th>14</th>\n",
              "      <td>4.3</td>\n",
              "      <td>3</td>\n",
              "      <td>1.1</td>\n",
              "      <td>0.1</td>\n",
              "      <td>setosa</td>\n",
              "    </tr>\n",
              "    <tr>\n",
              "      <th>15</th>\n",
              "      <td>5.8</td>\n",
              "      <td>4</td>\n",
              "      <td>1.2</td>\n",
              "      <td>0.2</td>\n",
              "      <td>setosa</td>\n",
              "    </tr>\n",
              "    <tr>\n",
              "      <th>16</th>\n",
              "      <td>5.7</td>\n",
              "      <td>4.4</td>\n",
              "      <td>1.5</td>\n",
              "      <td>0.4</td>\n",
              "      <td>setosa</td>\n",
              "    </tr>\n",
              "    <tr>\n",
              "      <th>17</th>\n",
              "      <td>5.4</td>\n",
              "      <td>3.9</td>\n",
              "      <td>1.3</td>\n",
              "      <td>0.4</td>\n",
              "      <td>setosa</td>\n",
              "    </tr>\n",
              "    <tr>\n",
              "      <th>18</th>\n",
              "      <td>5.1</td>\n",
              "      <td>3.5</td>\n",
              "      <td>1.4</td>\n",
              "      <td>0.3</td>\n",
              "      <td>setosa</td>\n",
              "    </tr>\n",
              "    <tr>\n",
              "      <th>19</th>\n",
              "      <td>5.7</td>\n",
              "      <td>3.8</td>\n",
              "      <td>1.7</td>\n",
              "      <td>0.3</td>\n",
              "      <td>setosa</td>\n",
              "    </tr>\n",
              "    <tr>\n",
              "      <th>20</th>\n",
              "      <td>5.1</td>\n",
              "      <td>3.8</td>\n",
              "      <td>1.5</td>\n",
              "      <td>0.3</td>\n",
              "      <td>setosa</td>\n",
              "    </tr>\n",
              "    <tr>\n",
              "      <th>21</th>\n",
              "      <td>5.4</td>\n",
              "      <td>3.4</td>\n",
              "      <td>1.7</td>\n",
              "      <td>0.2</td>\n",
              "      <td>setosa</td>\n",
              "    </tr>\n",
              "    <tr>\n",
              "      <th>22</th>\n",
              "      <td>5.1</td>\n",
              "      <td>3.7</td>\n",
              "      <td>1.5</td>\n",
              "      <td>0.4</td>\n",
              "      <td>setosa</td>\n",
              "    </tr>\n",
              "    <tr>\n",
              "      <th>23</th>\n",
              "      <td>4.6</td>\n",
              "      <td>3.6</td>\n",
              "      <td>1</td>\n",
              "      <td>0.2</td>\n",
              "      <td>setosa</td>\n",
              "    </tr>\n",
              "    <tr>\n",
              "      <th>24</th>\n",
              "      <td>5.1</td>\n",
              "      <td>3.3</td>\n",
              "      <td>1.7</td>\n",
              "      <td>0.5</td>\n",
              "      <td>setosa</td>\n",
              "    </tr>\n",
              "    <tr>\n",
              "      <th>25</th>\n",
              "      <td>4.8</td>\n",
              "      <td>3.4</td>\n",
              "      <td>1.9</td>\n",
              "      <td>0.2</td>\n",
              "      <td>setosa</td>\n",
              "    </tr>\n",
              "    <tr>\n",
              "      <th>26</th>\n",
              "      <td>5</td>\n",
              "      <td>3</td>\n",
              "      <td>1.6</td>\n",
              "      <td>0.2</td>\n",
              "      <td>setosa</td>\n",
              "    </tr>\n",
              "    <tr>\n",
              "      <th>27</th>\n",
              "      <td>5</td>\n",
              "      <td>3.4</td>\n",
              "      <td>1.6</td>\n",
              "      <td>0.4</td>\n",
              "      <td>setosa</td>\n",
              "    </tr>\n",
              "    <tr>\n",
              "      <th>28</th>\n",
              "      <td>5.2</td>\n",
              "      <td>3.5</td>\n",
              "      <td>1.5</td>\n",
              "      <td>0.2</td>\n",
              "      <td>setosa</td>\n",
              "    </tr>\n",
              "    <tr>\n",
              "      <th>29</th>\n",
              "      <td>5.2</td>\n",
              "      <td>3.4</td>\n",
              "      <td>1.4</td>\n",
              "      <td>0.2</td>\n",
              "      <td>setosa</td>\n",
              "    </tr>\n",
              "    <tr>\n",
              "      <th>30</th>\n",
              "      <td>4.7</td>\n",
              "      <td>3.2</td>\n",
              "      <td>1.6</td>\n",
              "      <td>0.2</td>\n",
              "      <td>setosa</td>\n",
              "    </tr>\n",
              "    <tr>\n",
              "      <th>31</th>\n",
              "      <td>4.8</td>\n",
              "      <td>3.1</td>\n",
              "      <td>1.6</td>\n",
              "      <td>0.2</td>\n",
              "      <td>setosa</td>\n",
              "    </tr>\n",
              "    <tr>\n",
              "      <th>32</th>\n",
              "      <td>5.4</td>\n",
              "      <td>3.4</td>\n",
              "      <td>1.5</td>\n",
              "      <td>0.4</td>\n",
              "      <td>setosa</td>\n",
              "    </tr>\n",
              "    <tr>\n",
              "      <th>33</th>\n",
              "      <td>5.2</td>\n",
              "      <td>4.1</td>\n",
              "      <td>1.5</td>\n",
              "      <td>0.1</td>\n",
              "      <td>setosa</td>\n",
              "    </tr>\n",
              "    <tr>\n",
              "      <th>34</th>\n",
              "      <td>5.5</td>\n",
              "      <td>4.2</td>\n",
              "      <td>1.4</td>\n",
              "      <td>0.2</td>\n",
              "      <td>setosa</td>\n",
              "    </tr>\n",
              "    <tr>\n",
              "      <th>35</th>\n",
              "      <td>4.9</td>\n",
              "      <td>3.1</td>\n",
              "      <td>1.5</td>\n",
              "      <td>0.1</td>\n",
              "      <td>setosa</td>\n",
              "    </tr>\n",
              "    <tr>\n",
              "      <th>36</th>\n",
              "      <td>5</td>\n",
              "      <td>3.2</td>\n",
              "      <td>1.2</td>\n",
              "      <td>0.2</td>\n",
              "      <td>setosa</td>\n",
              "    </tr>\n",
              "    <tr>\n",
              "      <th>37</th>\n",
              "      <td>5.5</td>\n",
              "      <td>3.5</td>\n",
              "      <td>1.3</td>\n",
              "      <td>0.2</td>\n",
              "      <td>setosa</td>\n",
              "    </tr>\n",
              "    <tr>\n",
              "      <th>38</th>\n",
              "      <td>4.9</td>\n",
              "      <td>3.1</td>\n",
              "      <td>1.5</td>\n",
              "      <td>0.1</td>\n",
              "      <td>setosa</td>\n",
              "    </tr>\n",
              "    <tr>\n",
              "      <th>39</th>\n",
              "      <td>4.4</td>\n",
              "      <td>3</td>\n",
              "      <td>1.3</td>\n",
              "      <td>0.2</td>\n",
              "      <td>setosa</td>\n",
              "    </tr>\n",
              "    <tr>\n",
              "      <th>40</th>\n",
              "      <td>5.1</td>\n",
              "      <td>3.4</td>\n",
              "      <td>1.5</td>\n",
              "      <td>0.2</td>\n",
              "      <td>setosa</td>\n",
              "    </tr>\n",
              "    <tr>\n",
              "      <th>41</th>\n",
              "      <td>5</td>\n",
              "      <td>3.5</td>\n",
              "      <td>1.3</td>\n",
              "      <td>0.3</td>\n",
              "      <td>setosa</td>\n",
              "    </tr>\n",
              "    <tr>\n",
              "      <th>42</th>\n",
              "      <td>4.5</td>\n",
              "      <td>2.3</td>\n",
              "      <td>1.3</td>\n",
              "      <td>0.3</td>\n",
              "      <td>setosa</td>\n",
              "    </tr>\n",
              "    <tr>\n",
              "      <th>43</th>\n",
              "      <td>4.4</td>\n",
              "      <td>3.2</td>\n",
              "      <td>1.3</td>\n",
              "      <td>0.2</td>\n",
              "      <td>setosa</td>\n",
              "    </tr>\n",
              "    <tr>\n",
              "      <th>44</th>\n",
              "      <td>5</td>\n",
              "      <td>3.5</td>\n",
              "      <td>1.6</td>\n",
              "      <td>0.6</td>\n",
              "      <td>setosa</td>\n",
              "    </tr>\n",
              "    <tr>\n",
              "      <th>45</th>\n",
              "      <td>5.1</td>\n",
              "      <td>3.8</td>\n",
              "      <td>1.9</td>\n",
              "      <td>0.4</td>\n",
              "      <td>setosa</td>\n",
              "    </tr>\n",
              "    <tr>\n",
              "      <th>46</th>\n",
              "      <td>4.8</td>\n",
              "      <td>3</td>\n",
              "      <td>1.4</td>\n",
              "      <td>0.3</td>\n",
              "      <td>setosa</td>\n",
              "    </tr>\n",
              "    <tr>\n",
              "      <th>47</th>\n",
              "      <td>5.1</td>\n",
              "      <td>3.8</td>\n",
              "      <td>1.6</td>\n",
              "      <td>0.2</td>\n",
              "      <td>setosa</td>\n",
              "    </tr>\n",
              "    <tr>\n",
              "      <th>48</th>\n",
              "      <td>4.6</td>\n",
              "      <td>3.2</td>\n",
              "      <td>1.4</td>\n",
              "      <td>0.2</td>\n",
              "      <td>setosa</td>\n",
              "    </tr>\n",
              "    <tr>\n",
              "      <th>49</th>\n",
              "      <td>5.3</td>\n",
              "      <td>3.7</td>\n",
              "      <td>1.5</td>\n",
              "      <td>0.2</td>\n",
              "      <td>setosa</td>\n",
              "    </tr>\n",
              "    <tr>\n",
              "      <th>50</th>\n",
              "      <td>5</td>\n",
              "      <td>3.3</td>\n",
              "      <td>1.4</td>\n",
              "      <td>0.2</td>\n",
              "      <td>setosa</td>\n",
              "    </tr>\n",
              "  </tbody>\n",
              "</table>\n",
              "</div>\n",
              "    <div class=\"colab-df-buttons\">\n",
              "\n",
              "  <div class=\"colab-df-container\">\n",
              "    <button class=\"colab-df-convert\" onclick=\"convertToInteractive('df-5a49d7e3-386c-4005-a9dd-56caec64bf3f')\"\n",
              "            title=\"Convert this dataframe to an interactive table.\"\n",
              "            style=\"display:none;\">\n",
              "\n",
              "  <svg xmlns=\"http://www.w3.org/2000/svg\" height=\"24px\" viewBox=\"0 -960 960 960\">\n",
              "    <path d=\"M120-120v-720h720v720H120Zm60-500h600v-160H180v160Zm220 220h160v-160H400v160Zm0 220h160v-160H400v160ZM180-400h160v-160H180v160Zm440 0h160v-160H620v160ZM180-180h160v-160H180v160Zm440 0h160v-160H620v160Z\"/>\n",
              "  </svg>\n",
              "    </button>\n",
              "\n",
              "  <style>\n",
              "    .colab-df-container {\n",
              "      display:flex;\n",
              "      gap: 12px;\n",
              "    }\n",
              "\n",
              "    .colab-df-convert {\n",
              "      background-color: #E8F0FE;\n",
              "      border: none;\n",
              "      border-radius: 50%;\n",
              "      cursor: pointer;\n",
              "      display: none;\n",
              "      fill: #1967D2;\n",
              "      height: 32px;\n",
              "      padding: 0 0 0 0;\n",
              "      width: 32px;\n",
              "    }\n",
              "\n",
              "    .colab-df-convert:hover {\n",
              "      background-color: #E2EBFA;\n",
              "      box-shadow: 0px 1px 2px rgba(60, 64, 67, 0.3), 0px 1px 3px 1px rgba(60, 64, 67, 0.15);\n",
              "      fill: #174EA6;\n",
              "    }\n",
              "\n",
              "    .colab-df-buttons div {\n",
              "      margin-bottom: 4px;\n",
              "    }\n",
              "\n",
              "    [theme=dark] .colab-df-convert {\n",
              "      background-color: #3B4455;\n",
              "      fill: #D2E3FC;\n",
              "    }\n",
              "\n",
              "    [theme=dark] .colab-df-convert:hover {\n",
              "      background-color: #434B5C;\n",
              "      box-shadow: 0px 1px 3px 1px rgba(0, 0, 0, 0.15);\n",
              "      filter: drop-shadow(0px 1px 2px rgba(0, 0, 0, 0.3));\n",
              "      fill: #FFFFFF;\n",
              "    }\n",
              "  </style>\n",
              "\n",
              "    <script>\n",
              "      const buttonEl =\n",
              "        document.querySelector('#df-5a49d7e3-386c-4005-a9dd-56caec64bf3f button.colab-df-convert');\n",
              "      buttonEl.style.display =\n",
              "        google.colab.kernel.accessAllowed ? 'block' : 'none';\n",
              "\n",
              "      async function convertToInteractive(key) {\n",
              "        const element = document.querySelector('#df-5a49d7e3-386c-4005-a9dd-56caec64bf3f');\n",
              "        const dataTable =\n",
              "          await google.colab.kernel.invokeFunction('convertToInteractive',\n",
              "                                                    [key], {});\n",
              "        if (!dataTable) return;\n",
              "\n",
              "        const docLinkHtml = 'Like what you see? Visit the ' +\n",
              "          '<a target=\"_blank\" href=https://colab.research.google.com/notebooks/data_table.ipynb>data table notebook</a>'\n",
              "          + ' to learn more about interactive tables.';\n",
              "        element.innerHTML = '';\n",
              "        dataTable['output_type'] = 'display_data';\n",
              "        await google.colab.output.renderOutput(dataTable, element);\n",
              "        const docLink = document.createElement('div');\n",
              "        docLink.innerHTML = docLinkHtml;\n",
              "        element.appendChild(docLink);\n",
              "      }\n",
              "    </script>\n",
              "  </div>\n",
              "\n",
              "\n",
              "<div id=\"df-8622bc64-6b36-4faa-a401-4d7291557dea\">\n",
              "  <button class=\"colab-df-quickchart\" onclick=\"quickchart('df-8622bc64-6b36-4faa-a401-4d7291557dea')\"\n",
              "            title=\"Suggest charts\"\n",
              "            style=\"display:none;\">\n",
              "\n",
              "<svg xmlns=\"http://www.w3.org/2000/svg\" height=\"24px\"viewBox=\"0 0 24 24\"\n",
              "     width=\"24px\">\n",
              "    <g>\n",
              "        <path d=\"M19 3H5c-1.1 0-2 .9-2 2v14c0 1.1.9 2 2 2h14c1.1 0 2-.9 2-2V5c0-1.1-.9-2-2-2zM9 17H7v-7h2v7zm4 0h-2V7h2v10zm4 0h-2v-4h2v4z\"/>\n",
              "    </g>\n",
              "</svg>\n",
              "  </button>\n",
              "\n",
              "<style>\n",
              "  .colab-df-quickchart {\n",
              "      --bg-color: #E8F0FE;\n",
              "      --fill-color: #1967D2;\n",
              "      --hover-bg-color: #E2EBFA;\n",
              "      --hover-fill-color: #174EA6;\n",
              "      --disabled-fill-color: #AAA;\n",
              "      --disabled-bg-color: #DDD;\n",
              "  }\n",
              "\n",
              "  [theme=dark] .colab-df-quickchart {\n",
              "      --bg-color: #3B4455;\n",
              "      --fill-color: #D2E3FC;\n",
              "      --hover-bg-color: #434B5C;\n",
              "      --hover-fill-color: #FFFFFF;\n",
              "      --disabled-bg-color: #3B4455;\n",
              "      --disabled-fill-color: #666;\n",
              "  }\n",
              "\n",
              "  .colab-df-quickchart {\n",
              "    background-color: var(--bg-color);\n",
              "    border: none;\n",
              "    border-radius: 50%;\n",
              "    cursor: pointer;\n",
              "    display: none;\n",
              "    fill: var(--fill-color);\n",
              "    height: 32px;\n",
              "    padding: 0;\n",
              "    width: 32px;\n",
              "  }\n",
              "\n",
              "  .colab-df-quickchart:hover {\n",
              "    background-color: var(--hover-bg-color);\n",
              "    box-shadow: 0 1px 2px rgba(60, 64, 67, 0.3), 0 1px 3px 1px rgba(60, 64, 67, 0.15);\n",
              "    fill: var(--button-hover-fill-color);\n",
              "  }\n",
              "\n",
              "  .colab-df-quickchart-complete:disabled,\n",
              "  .colab-df-quickchart-complete:disabled:hover {\n",
              "    background-color: var(--disabled-bg-color);\n",
              "    fill: var(--disabled-fill-color);\n",
              "    box-shadow: none;\n",
              "  }\n",
              "\n",
              "  .colab-df-spinner {\n",
              "    border: 2px solid var(--fill-color);\n",
              "    border-color: transparent;\n",
              "    border-bottom-color: var(--fill-color);\n",
              "    animation:\n",
              "      spin 1s steps(1) infinite;\n",
              "  }\n",
              "\n",
              "  @keyframes spin {\n",
              "    0% {\n",
              "      border-color: transparent;\n",
              "      border-bottom-color: var(--fill-color);\n",
              "      border-left-color: var(--fill-color);\n",
              "    }\n",
              "    20% {\n",
              "      border-color: transparent;\n",
              "      border-left-color: var(--fill-color);\n",
              "      border-top-color: var(--fill-color);\n",
              "    }\n",
              "    30% {\n",
              "      border-color: transparent;\n",
              "      border-left-color: var(--fill-color);\n",
              "      border-top-color: var(--fill-color);\n",
              "      border-right-color: var(--fill-color);\n",
              "    }\n",
              "    40% {\n",
              "      border-color: transparent;\n",
              "      border-right-color: var(--fill-color);\n",
              "      border-top-color: var(--fill-color);\n",
              "    }\n",
              "    60% {\n",
              "      border-color: transparent;\n",
              "      border-right-color: var(--fill-color);\n",
              "    }\n",
              "    80% {\n",
              "      border-color: transparent;\n",
              "      border-right-color: var(--fill-color);\n",
              "      border-bottom-color: var(--fill-color);\n",
              "    }\n",
              "    90% {\n",
              "      border-color: transparent;\n",
              "      border-bottom-color: var(--fill-color);\n",
              "    }\n",
              "  }\n",
              "</style>\n",
              "\n",
              "  <script>\n",
              "    async function quickchart(key) {\n",
              "      const quickchartButtonEl =\n",
              "        document.querySelector('#' + key + ' button');\n",
              "      quickchartButtonEl.disabled = true;  // To prevent multiple clicks.\n",
              "      quickchartButtonEl.classList.add('colab-df-spinner');\n",
              "      try {\n",
              "        const charts = await google.colab.kernel.invokeFunction(\n",
              "            'suggestCharts', [key], {});\n",
              "      } catch (error) {\n",
              "        console.error('Error during call to suggestCharts:', error);\n",
              "      }\n",
              "      quickchartButtonEl.classList.remove('colab-df-spinner');\n",
              "      quickchartButtonEl.classList.add('colab-df-quickchart-complete');\n",
              "    }\n",
              "    (() => {\n",
              "      let quickchartButtonEl =\n",
              "        document.querySelector('#df-8622bc64-6b36-4faa-a401-4d7291557dea button');\n",
              "      quickchartButtonEl.style.display =\n",
              "        google.colab.kernel.accessAllowed ? 'block' : 'none';\n",
              "    })();\n",
              "  </script>\n",
              "</div>\n",
              "\n",
              "  <div id=\"id_92532c98-c191-4227-99b2-accf6c49f15a\">\n",
              "    <style>\n",
              "      .colab-df-generate {\n",
              "        background-color: #E8F0FE;\n",
              "        border: none;\n",
              "        border-radius: 50%;\n",
              "        cursor: pointer;\n",
              "        display: none;\n",
              "        fill: #1967D2;\n",
              "        height: 32px;\n",
              "        padding: 0 0 0 0;\n",
              "        width: 32px;\n",
              "      }\n",
              "\n",
              "      .colab-df-generate:hover {\n",
              "        background-color: #E2EBFA;\n",
              "        box-shadow: 0px 1px 2px rgba(60, 64, 67, 0.3), 0px 1px 3px 1px rgba(60, 64, 67, 0.15);\n",
              "        fill: #174EA6;\n",
              "      }\n",
              "\n",
              "      [theme=dark] .colab-df-generate {\n",
              "        background-color: #3B4455;\n",
              "        fill: #D2E3FC;\n",
              "      }\n",
              "\n",
              "      [theme=dark] .colab-df-generate:hover {\n",
              "        background-color: #434B5C;\n",
              "        box-shadow: 0px 1px 3px 1px rgba(0, 0, 0, 0.15);\n",
              "        filter: drop-shadow(0px 1px 2px rgba(0, 0, 0, 0.3));\n",
              "        fill: #FFFFFF;\n",
              "      }\n",
              "    </style>\n",
              "    <button class=\"colab-df-generate\" onclick=\"generateWithVariable('data')\"\n",
              "            title=\"Generate code using this dataframe.\"\n",
              "            style=\"display:none;\">\n",
              "\n",
              "  <svg xmlns=\"http://www.w3.org/2000/svg\" height=\"24px\"viewBox=\"0 0 24 24\"\n",
              "       width=\"24px\">\n",
              "    <path d=\"M7,19H8.4L18.45,9,17,7.55,7,17.6ZM5,21V16.75L18.45,3.32a2,2,0,0,1,2.83,0l1.4,1.43a1.91,1.91,0,0,1,.58,1.4,1.91,1.91,0,0,1-.58,1.4L9.25,21ZM18.45,9,17,7.55Zm-12,3A5.31,5.31,0,0,0,4.9,8.1,5.31,5.31,0,0,0,1,6.5,5.31,5.31,0,0,0,4.9,4.9,5.31,5.31,0,0,0,6.5,1,5.31,5.31,0,0,0,8.1,4.9,5.31,5.31,0,0,0,12,6.5,5.46,5.46,0,0,0,6.5,12Z\"/>\n",
              "  </svg>\n",
              "    </button>\n",
              "    <script>\n",
              "      (() => {\n",
              "      const buttonEl =\n",
              "        document.querySelector('#id_92532c98-c191-4227-99b2-accf6c49f15a button.colab-df-generate');\n",
              "      buttonEl.style.display =\n",
              "        google.colab.kernel.accessAllowed ? 'block' : 'none';\n",
              "\n",
              "      buttonEl.onclick = () => {\n",
              "        google.colab.notebook.generateWithVariable('data');\n",
              "      }\n",
              "      })();\n",
              "    </script>\n",
              "  </div>\n",
              "\n",
              "    </div>\n",
              "  </div>\n"
            ],
            "application/vnd.google.colaboratory.intrinsic+json": {
              "type": "dataframe",
              "variable_name": "data",
              "summary": "{\n  \"name\": \"data\",\n  \"rows\": 51,\n  \"fields\": [\n    {\n      \"column\": \"Unnamed: 0\",\n      \"properties\": {\n        \"dtype\": \"category\",\n        \"num_unique_values\": 16,\n        \"samples\": [\n          \"AltoSepalo\",\n          \"5.1\",\n          \"5\"\n        ],\n        \"semantic_type\": \"\",\n        \"description\": \"\"\n      }\n    },\n    {\n      \"column\": \"Unnamed: 1\",\n      \"properties\": {\n        \"dtype\": \"category\",\n        \"num_unique_values\": 17,\n        \"samples\": [\n          \"AnchoSepalo\",\n          \"3.5\",\n          \"3.6\"\n        ],\n        \"semantic_type\": \"\",\n        \"description\": \"\"\n      }\n    },\n    {\n      \"column\": \"Unnamed: 2\",\n      \"properties\": {\n        \"dtype\": \"category\",\n        \"num_unique_values\": 10,\n        \"samples\": [\n          \"1\",\n          \"1.4\",\n          \"1.6\"\n        ],\n        \"semantic_type\": \"\",\n        \"description\": \"\"\n      }\n    },\n    {\n      \"column\": \"Unnamed: 3\",\n      \"properties\": {\n        \"dtype\": \"category\",\n        \"num_unique_values\": 7,\n        \"samples\": [\n          \"AnchoPetalo\",\n          \"0.2\",\n          \"0.5\"\n        ],\n        \"semantic_type\": \"\",\n        \"description\": \"\"\n      }\n    },\n    {\n      \"column\": \"Unnamed: 4\",\n      \"properties\": {\n        \"dtype\": \"category\",\n        \"num_unique_values\": 2,\n        \"samples\": [\n          \"setosa\",\n          \"Especie\"\n        ],\n        \"semantic_type\": \"\",\n        \"description\": \"\"\n      }\n    }\n  ]\n}"
            }
          },
          "metadata": {},
          "execution_count": 9
        }
      ]
    },
    {
      "cell_type": "code",
      "source": [],
      "metadata": {
        "id": "fhcuBrZ-QIE-"
      },
      "execution_count": null,
      "outputs": []
    },
    {
      "cell_type": "code",
      "source": [
        "setosa = data[data['Unnamed: 4'] == 'setosa']\n",
        "\n",
        "setosa['Unnamed: 3'] = pd.to_numeric(setosa['Unnamed: 3'], errors='coerce')\n",
        "\n",
        "ancho_petalo_setosa = setosa['Unnamed: 3'].values\n",
        "\n",
        "minimo = ancho_petalo_setosa.min()\n",
        "maximo = ancho_petalo_setosa.max()\n",
        "suma = ancho_petalo_setosa.sum()\n",
        "\n",
        "primeros_10_multiplicados = ancho_petalo_setosa[:10] * 5\n",
        "\n",
        "print(\"Mínimo:\", minimo)\n",
        "print(\"Máximo:\", maximo)\n",
        "print(\"Suma:\", suma)\n",
        "print(\"Primeros 10 elementos multiplicados por 5:\", primeros_10_multiplicados)"
      ],
      "metadata": {
        "colab": {
          "base_uri": "https://localhost:8080/"
        },
        "id": "Y1XOXGTfO9gZ",
        "outputId": "56ecc731-21b4-4403-d215-d6bfe49a21e6"
      },
      "execution_count": null,
      "outputs": [
        {
          "output_type": "stream",
          "name": "stdout",
          "text": [
            "Mínimo: 0.1\n",
            "Máximo: 0.6\n",
            "Suma: 12.2\n",
            "Primeros 10 elementos multiplicados por 5: [1.  1.  1.  1.  1.  2.  1.5 1.  1.  0.5]\n"
          ]
        },
        {
          "output_type": "stream",
          "name": "stderr",
          "text": [
            "<ipython-input-30-eff824d8e608>:3: SettingWithCopyWarning: \n",
            "A value is trying to be set on a copy of a slice from a DataFrame.\n",
            "Try using .loc[row_indexer,col_indexer] = value instead\n",
            "\n",
            "See the caveats in the documentation: https://pandas.pydata.org/pandas-docs/stable/user_guide/indexing.html#returning-a-view-versus-a-copy\n",
            "  setosa['Unnamed: 3'] = pd.to_numeric(setosa['Unnamed: 3'], errors='coerce')\n"
          ]
        }
      ]
    }
  ]
}